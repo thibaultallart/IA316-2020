{
 "cells": [
  {
   "cell_type": "markdown",
   "metadata": {},
   "source": [
    "# Systèmes de recommandation : les données MovieLens\n",
    "\n",
    "Nous nous intéressons à la base de données MovieLens. Des utilisateurs ont noté des items (films). Dans cette première partie, il s'agit d'analyser les données, définir une métrique entre items, et ranger les items similaires à un film donnée par ordre décroissant de similarité.\n",
    "<font color=\"red\">\n",
    "Faire les imports habituels (numpy, pandas)</font>"
   ]
  },
  {
   "cell_type": "code",
   "execution_count": null,
   "metadata": {
    "collapsed": true
   },
   "outputs": [],
   "source": []
  },
  {
   "cell_type": "code",
   "execution_count": 2,
   "metadata": {
    "collapsed": true
   },
   "outputs": [],
   "source": [
    "# Chargement des données (on précise que les séparateurs sont des tabulations)\n",
    "column_names = ['user_id', 'item_id', 'rating', 'timestamp']\n",
    "df = pd.read_csv('u.data', sep='\\t', names=column_names)"
   ]
  },
  {
   "cell_type": "markdown",
   "metadata": {},
   "source": [
    "<font color=\"red\">\n",
    "Afficher les premières lignes de la dataframe, et comprendre sa structure.</font>"
   ]
  },
  {
   "cell_type": "code",
   "execution_count": null,
   "metadata": {
    "collapsed": true
   },
   "outputs": [],
   "source": []
  },
  {
   "cell_type": "markdown",
   "metadata": {},
   "source": [
    "<font color=\"red\">\n",
    "Evaluer le nombre d'uilisateurs uniques, le nombre d'items uniques.</font>"
   ]
  },
  {
   "cell_type": "code",
   "execution_count": null,
   "metadata": {
    "collapsed": true
   },
   "outputs": [],
   "source": [
    "n_user = \n",
    "n_item = "
   ]
  },
  {
   "cell_type": "markdown",
   "metadata": {},
   "source": [
    "<font color=\"red\">\n",
    "Le fichier \"../data/Movie_Id_Titles\" contient la correspondance entre l'item_id et le titre du film. Charger ce fichier avec read_csv, et afficher les première lignes.</font>"
   ]
  },
  {
   "cell_type": "code",
   "execution_count": null,
   "metadata": {
    "collapsed": true
   },
   "outputs": [],
   "source": [
    "# Chargement des titres de film\n",
    "movie_titles ="
   ]
  },
  {
   "cell_type": "markdown",
   "metadata": {},
   "source": [
    "<font color=\"red\">\n",
    "Avec df.merge, ajouter une colonne \"title\" à la dataframe df : on fixera le paramètre on=\"..\" à la bonne valeur.\n",
    "</font>"
   ]
  },
  {
   "cell_type": "code",
   "execution_count": null,
   "metadata": {
    "collapsed": true
   },
   "outputs": [],
   "source": [
    "# Ajout d'une colonne de titres aux données\n",
    "df = df.merge( ..., on = ...)"
   ]
  },
  {
   "cell_type": "markdown",
   "metadata": {},
   "source": [
    "<font color=\"red\">\n",
    "Avec groupby, créer une nouvelle dataframe 'rating_movies' contenant la note moyenne de chaque film. \n",
    "Afficher le résultat en classant les films par ordre décroissant de note. Quels sont les films les mieux notés ?</font>"
   ]
  },
  {
   "cell_type": "code",
   "execution_count": null,
   "metadata": {
    "collapsed": true
   },
   "outputs": [],
   "source": [
    "rating_movies = pd.DataFrame(df.groupby( ... )[ ...].mean())\n",
    "rating_movies.sort_values(by = ...,ascending=...).head()"
   ]
  },
  {
   "cell_type": "markdown",
   "metadata": {},
   "source": [
    "<font color=\"red\">\n",
    "Représenter l'histogramme des notes moyennes des films. A quoi correspondent les \"pics\" en 1 et en 5 ?</font>"
   ]
  },
  {
   "cell_type": "code",
   "execution_count": null,
   "metadata": {
    "collapsed": true
   },
   "outputs": [],
   "source": [
    "import matplotlib as plt\n",
    "%matplotlib inline\n",
    "\n"
   ]
  },
  {
   "cell_type": "markdown",
   "metadata": {},
   "source": [
    "- Quelques navets ont une note moyenne de 1\n",
    "- Quelques films ont une note moyenne de 5, probablement de bons films, mais confidentiels"
   ]
  },
  {
   "cell_type": "markdown",
   "metadata": {},
   "source": [
    "<font color=\"red\">\n",
    "Ajouter à la dataframe 'rating_movies' une nouvelle colonne 'num of ratings' contenant le nombre de notes de chaque film. Que peut-on dire des films les mieux notés en moyenne ?</font>"
   ]
  },
  {
   "cell_type": "code",
   "execution_count": 11,
   "metadata": {},
   "outputs": [
    {
     "data": {
      "text/html": [
       "<div>\n",
       "<style scoped>\n",
       "    .dataframe tbody tr th:only-of-type {\n",
       "        vertical-align: middle;\n",
       "    }\n",
       "\n",
       "    .dataframe tbody tr th {\n",
       "        vertical-align: top;\n",
       "    }\n",
       "\n",
       "    .dataframe thead th {\n",
       "        text-align: right;\n",
       "    }\n",
       "</style>\n",
       "<table border=\"1\" class=\"dataframe\">\n",
       "  <thead>\n",
       "    <tr style=\"text-align: right;\">\n",
       "      <th></th>\n",
       "      <th>rating</th>\n",
       "      <th>num of ratings</th>\n",
       "    </tr>\n",
       "    <tr>\n",
       "      <th>title</th>\n",
       "      <th></th>\n",
       "      <th></th>\n",
       "    </tr>\n",
       "  </thead>\n",
       "  <tbody>\n",
       "    <tr>\n",
       "      <th>They Made Me a Criminal (1939)</th>\n",
       "      <td>5.0</td>\n",
       "      <td>1</td>\n",
       "    </tr>\n",
       "    <tr>\n",
       "      <th>Marlene Dietrich: Shadow and Light (1996)</th>\n",
       "      <td>5.0</td>\n",
       "      <td>1</td>\n",
       "    </tr>\n",
       "    <tr>\n",
       "      <th>Saint of Fort Washington, The (1993)</th>\n",
       "      <td>5.0</td>\n",
       "      <td>2</td>\n",
       "    </tr>\n",
       "    <tr>\n",
       "      <th>Someone Else's America (1995)</th>\n",
       "      <td>5.0</td>\n",
       "      <td>1</td>\n",
       "    </tr>\n",
       "    <tr>\n",
       "      <th>Star Kid (1997)</th>\n",
       "      <td>5.0</td>\n",
       "      <td>3</td>\n",
       "    </tr>\n",
       "  </tbody>\n",
       "</table>\n",
       "</div>"
      ],
      "text/plain": [
       "                                            rating  num of ratings\n",
       "title                                                             \n",
       "They Made Me a Criminal (1939)                 5.0               1\n",
       "Marlene Dietrich: Shadow and Light (1996)      5.0               1\n",
       "Saint of Fort Washington, The (1993)           5.0               2\n",
       "Someone Else's America (1995)                  5.0               1\n",
       "Star Kid (1997)                                5.0               3"
      ]
     },
     "execution_count": 11,
     "metadata": {},
     "output_type": "execute_result"
    }
   ],
   "source": [
    "rating_movies['num of ratings'] = \n",
    "rating_movies.sort_values(..."
   ]
  },
  {
   "cell_type": "markdown",
   "metadata": {},
   "source": [
    "Cela confirme que les films les mieux notés ont peu de notes."
   ]
  },
  {
   "cell_type": "markdown",
   "metadata": {},
   "source": [
    "<font color=\"red\">\n",
    "Afficher les titres de films ayant le plus de notes et discuter leur ratings.\n",
    "</font>"
   ]
  },
  {
   "cell_type": "code",
   "execution_count": null,
   "metadata": {
    "collapsed": true
   },
   "outputs": [],
   "source": [
    "rating_movies.sort_values(by=...,ascending=...).head()"
   ]
  },
  {
   "cell_type": "markdown",
   "metadata": {},
   "source": [
    "<font color=\"red\">\n",
    "Représenter la distribution du nombre de ratings.</font>"
   ]
  },
  {
   "cell_type": "code",
   "execution_count": null,
   "metadata": {
    "collapsed": true
   },
   "outputs": [],
   "source": [
    "rating_movies.hist(column=...., bins=...);"
   ]
  },
  {
   "cell_type": "markdown",
   "metadata": {},
   "source": [
    "<font color=\"red\">\n",
    "Avec sns.jointplot, représenter le nuage de points (note moyenne, nombre de notes) sur l'ensemble des film (utiliser le paramètre alpha= de votre choix).  \n",
    "Discuter le graphique.\n",
    "</font>"
   ]
  },
  {
   "cell_type": "code",
   "execution_count": 1,
   "metadata": {},
   "outputs": [],
   "source": [
    "import seaborn as sns\n",
    "sns.jointplot(x=...,y=...,data=...,alpha=0.5);"
   ]
  },
  {
   "cell_type": "markdown",
   "metadata": {},
   "source": [
    "- On retrouve le fait que les films ayant pour note moyenne 1 ou 5 sont les films peu notés\n",
    "- Tendance : les films biens notés sont globalement les films beaucoup notés\n",
    "- Un film beaucoup noté ne peut avoir une note très proche de 5"
   ]
  },
  {
   "cell_type": "markdown",
   "metadata": {},
   "source": [
    "# Films les plus similaires à un item \n",
    "Dans cette partie, on se fixe un item, disons 'Star Wars (1977)'. On souhaite trouver des films \"similaires\" à Star Wars, et les classer par ordre de similarité, afin de les recommander.  \n",
    "<font color=\"red\">\n",
    "Avec df.pivot_table, créer la matrice des intteractions, dont les indices sont les lignes correspondent aux user_id, les colonnes correspondent aux item_id, et dont les entrées sont les ratings.\n",
    "</font>"
   ]
  },
  {
   "cell_type": "code",
   "execution_count": 15,
   "metadata": {
    "collapsed": true
   },
   "outputs": [],
   "source": [
    "moviemat = df.pivot_table(values=,index=,columns=)"
   ]
  },
  {
   "cell_type": "markdown",
   "metadata": {},
   "source": [
    "<font color=\"red\">\n",
    "Extraire la colonne 'Star Wars (1977)' et 'Liar Liar (1997)'\n",
    "</font>"
   ]
  },
  {
   "cell_type": "code",
   "execution_count": null,
   "metadata": {
    "collapsed": true
   },
   "outputs": [],
   "source": [
    "starwars_user_ratings = "
   ]
  },
  {
   "cell_type": "code",
   "execution_count": null,
   "metadata": {},
   "outputs": [],
   "source": [
    "liarliar_user_ratings = "
   ]
  },
  {
   "cell_type": "markdown",
   "metadata": {},
   "source": [
    "<font color=\"red\">\n",
    "Avec la méthode starwars_user_ratings.corr(colonne à corréler), calculer la corrélation de ces deux colonnes\n",
    "</font>"
   ]
  },
  {
   "cell_type": "code",
   "execution_count": null,
   "metadata": {
    "collapsed": true
   },
   "outputs": [],
   "source": []
  },
  {
   "cell_type": "markdown",
   "metadata": {},
   "source": [
    "<font color=\"red\">\n",
    "Que fournit le résultat de la méthode corrwith() ci-dessous ?\n",
    "</font>"
   ]
  },
  {
   "cell_type": "code",
   "execution_count": null,
   "metadata": {
    "collapsed": true
   },
   "outputs": [],
   "source": [
    "moviemat.corrwith(starwars_user_ratings)"
   ]
  },
  {
   "cell_type": "markdown",
   "metadata": {},
   "source": [
    "<font color=\"red\">\n",
    "Transformer la série ci-dessus en dataframe, et afficher les titres de film par ordre croissant de leur corrélation avec starwars.  \n",
    "Discuter le résultat.</font>"
   ]
  },
  {
   "cell_type": "code",
   "execution_count": null,
   "metadata": {
    "collapsed": true
   },
   "outputs": [],
   "source": [
    "similar_to_starwars = pd.DataFrame( moviemat.corrwith(starwars_user_ratings) ,columns=['Corr'])\n",
    "similar_to_starwars.sort_values(by=...,ascending=...).head(10)"
   ]
  },
  {
   "cell_type": "markdown",
   "metadata": {},
   "source": [
    "Le problème est que les corrélations sont calculées sur les valeurs non NaN\n",
    "\n",
    "Si un film a reçu la note r d'un seul utilisateur, et que cet utilisateur a noté r starwars, la corrélation vaut 1\n",
    "\n",
    "Pour éviter cela, on va rechercher la corrélation parmi les films ayant plus de 100 ratings"
   ]
  },
  {
   "cell_type": "markdown",
   "metadata": {},
   "source": [
    "<font color=\"red\">\n",
    "Ajouter à la dataframe similar_to_starwars une nouvelle colonne correspondant au nombre ratings de chaque film.</font>"
   ]
  },
  {
   "cell_type": "code",
   "execution_count": 27,
   "metadata": {
    "collapsed": true
   },
   "outputs": [],
   "source": [
    "similar_to_starwars['num of ratings'] ="
   ]
  },
  {
   "cell_type": "markdown",
   "metadata": {},
   "source": [
    "<font color=\"red\">\n",
    "Filtrer les lignes pour n'afficher que les titres ayant un nombre de ratings \"suffisant\" pour que vous les reteniez dans le classement. Classer par ordre décroissant de similarité.\n",
    "</font>"
   ]
  },
  {
   "cell_type": "code",
   "execution_count": null,
   "metadata": {
    "collapsed": true
   },
   "outputs": [],
   "source": [
    "most_similar_movies = similar_to_starwars[ ... ]"
   ]
  },
  {
   "cell_type": "code",
   "execution_count": null,
   "metadata": {},
   "outputs": [],
   "source": [
    "most_similar_movies.sort_values( ... )\n",
    "most_similar_movies.head(10)"
   ]
  },
  {
   "cell_type": "markdown",
   "metadata": {},
   "source": [
    "<font color=\"red\">\n",
    "Si ce n'est fait, effectuer le classement par valeurs décroissantes de corrélation en mode \"inplace\".  \n",
    "Puis, grâce à reset_index, obtenir une nouvelle colonne correspondant au classement de chaque film.</font>"
   ]
  },
  {
   "cell_type": "code",
   "execution_count": null,
   "metadata": {
    "collapsed": true
   },
   "outputs": [],
   "source": []
  },
  {
   "cell_type": "markdown",
   "metadata": {},
   "source": [
    "<font color=\"red\">\n",
    "Dans ce classement par similarité, quel est le rang du film 'Batman (1989)' ?\n",
    "</font>"
   ]
  },
  {
   "cell_type": "code",
   "execution_count": null,
   "metadata": {
    "collapsed": true
   },
   "outputs": [],
   "source": []
  }
 ],
 "metadata": {
  "kernelspec": {
   "display_name": "Python 3",
   "language": "python",
   "name": "python3"
  },
  "language_info": {
   "codemirror_mode": {
    "name": "ipython",
    "version": 3
   },
   "file_extension": ".py",
   "mimetype": "text/x-python",
   "name": "python",
   "nbconvert_exporter": "python",
   "pygments_lexer": "ipython3",
   "version": "3.7.4"
  }
 },
 "nbformat": 4,
 "nbformat_minor": 2
}
