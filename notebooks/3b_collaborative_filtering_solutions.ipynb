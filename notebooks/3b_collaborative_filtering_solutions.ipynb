{
 "cells": [
  {
   "cell_type": "markdown",
   "metadata": {},
   "source": [
    "# Memory-based collaborative filtering\n",
    "Dans ce deuxième notebook, nous voulons prédire les ratings non-observés en utilisant une approche \"memory-based\".\n",
    "Nous diviserons la base de données en deux, effectuerons l'apprentissage du modèle le train, et vérifierons la pertinence de nos prédictions sur le test.\n",
    "<br>\n",
    "<font color=\"red\">\n",
    "- Effectuer le imports nécessaires  \n",
    "- Charger la base de donnée MovieLens en précisant les bons noms de colonne  \n",
    "- Définir les variables n_users et n_items\n",
    "</font>"
   ]
  },
  {
   "cell_type": "code",
   "execution_count": 1,
   "metadata": {},
   "outputs": [],
   "source": [
    "import numpy as np\n",
    "import pandas as pd"
   ]
  },
  {
   "cell_type": "code",
   "execution_count": 2,
   "metadata": {},
   "outputs": [],
   "source": [
    "df = pd.read_csv('u.data', sep='\\t', names=['user_id', 'item_id', 'rating', 'timestamp'])\n",
    "movie_titles = pd.read_csv(\"Movie_Id_Titles\")\n",
    "n_user = df['user_id'].nunique()\n",
    "n_item = df['item_id'].nunique()"
   ]
  },
  {
   "cell_type": "markdown",
   "metadata": {},
   "source": [
    "<font color=\"red\">\n",
    "- Créer la dataframe des interactions avec pivot_table  \n",
    "- Remplacer tous les NaN par des zéros avec la méthode fillna(0)  \n",
    "- Extraire les valeurs sous forme de numpy.array\n",
    "</font>"
   ]
  },
  {
   "cell_type": "code",
   "execution_count": 3,
   "metadata": {},
   "outputs": [
    {
     "data": {
      "text/plain": [
       "array([[5., 3., 4., 3., 3.],\n",
       "       [4., 0., 0., 0., 0.],\n",
       "       [0., 0., 0., 0., 0.],\n",
       "       [0., 0., 0., 0., 0.],\n",
       "       [4., 3., 0., 0., 0.]])"
      ]
     },
     "execution_count": 3,
     "metadata": {},
     "output_type": "execute_result"
    }
   ],
   "source": [
    "ratings = pd.pivot_table(data=df,index='user_id',columns='item_id',values='rating').fillna(0).values\n",
    "ratings[:5,:5]"
   ]
  },
  {
   "cell_type": "markdown",
   "metadata": {},
   "source": [
    "<font color=\"red\">\n",
    "Combien y a-t-il d'éléments non-nuls ? Evaluer le pourcentage d'éléments non-nuls dans cette matrice.  \n",
    "</font>"
   ]
  },
  {
   "cell_type": "code",
   "execution_count": 4,
   "metadata": {},
   "outputs": [
    {
     "data": {
      "text/plain": [
       "6.304669364224531"
      ]
     },
     "execution_count": 4,
     "metadata": {},
     "output_type": "execute_result"
    }
   ],
   "source": [
    "(ratings>0).sum()/(ratings.shape[0] * ratings.shape[1])*100"
   ]
  },
  {
   "cell_type": "markdown",
   "metadata": {},
   "source": [
    "### User-based collaborative filtering\n",
    "Nous calculons une matrice de similarité $S=(S_{i,j})$ entre utilisateurs.\n",
    "Nous considérons la 'centered cosine similarity' : \n",
    "$$\n",
    "S_{i,j} = \\frac{\\langle \\bar r_i,\\bar r_j\\rangle}{\\|\\bar r_i\\|\\,\\|\\bar r_j\\|}\n",
    "$$\n",
    "où $\\bar r_i$ est le vecteur des ratings de l'utilisateur $i$, recentré par la moyenne des notes qu'a données l'utilisateur en question. La fonction suivante fournit la matrice de similarité."
   ]
  },
  {
   "cell_type": "code",
   "execution_count": 5,
   "metadata": {},
   "outputs": [],
   "source": [
    "def similarity(ratings):\n",
    "    \n",
    "    # vecteur contenant pour chaque utilisateur le nombre de notes données\n",
    "    r_user = (ratings>0).sum(axis=1)  \n",
    "    \n",
    "    # vecteur contenant pour chaque utilisateur la moyenne des notes données\n",
    "    m_user = np.divide(ratings.sum(axis=1) , r_user, where=r_user!=0)\n",
    "    \n",
    "    # Notes recentrées par la moyenne par utilisateur : chaque ligne i contient le vecteur \\bar r_i\n",
    "    ratings_ctr = ratings.T - ((ratings.T!=0) * m_user)\n",
    "    ratings_ctr = ratings_ctr.T\n",
    "\n",
    "    # Matrice de Gram, contenant les produits scalaires\n",
    "    sim = ratings_ctr.dot(ratings_ctr.T)\n",
    "    \n",
    "    # Renormalisation\n",
    "    norms = np.array([np.sqrt(np.diagonal(sim))])\n",
    "    sim = sim / norms / norms.T  \n",
    "    # (En numpy, diviser une matrice par un vecteur ligne (resp. colonne) \n",
    "    # revient à diviser chaque ligne (resp. colonne) terme à terme par les éléments du vecteur)\n",
    "    \n",
    "    return sim"
   ]
  },
  {
   "cell_type": "markdown",
   "metadata": {},
   "source": [
    "### Prédiction\n",
    "On souhaite prédire toutes les notes d'un utilisateur $u$, à partir des notes données par les utilisateurs qui lui sont similaires.\n",
    "\n",
    "Une première approche consiste, pour tout item $i$, à définir\n",
    "$$\n",
    "\\hat r_{u,i} = \\frac{\\sum_{v} \\varphi(S_{u,v}) r_{v,i}}{\\sum_{v:r_{v,i}\\neq 0} \\varphi(S_{u,v})}\n",
    "$$\n",
    "où $\\varphi(\\,.\\,)$ est une fonction à valeurs positives, et \n",
    "où la somme est restreinte aux utilisateurs $v$ ayant effectivement noté l'item i, soit :\n",
    "$$\n",
    "\\hat r_{u,i} = \\frac{\\sum_{v} \\varphi(S_{u,v}) r_{v,i}}{\\sum_{v}\\varphi(S_{u,v})1_{r_{v,i}>0}}\n",
    "$$\n",
    "Remarque : Le numérateur est la composante $(u,i)$ de la matrice $\\phi(S)R$. Le dénominateur est la composante $(u,i)$ de la matrice $\\phi(S) (R>0)$. On obtient donc la matrice $\\hat R$ en divisant terme à terme ces deux matrices.\n",
    "<br>\n",
    "<font color=\"red\">\n",
    "Définir une fonction $\\phi(x)$ retournant le maximum de $x$ et de 0.</font>"
   ]
  },
  {
   "cell_type": "code",
   "execution_count": 6,
   "metadata": {},
   "outputs": [],
   "source": [
    "def phi(x):\n",
    "    return np.maximum(x,0) "
   ]
  },
  {
   "cell_type": "markdown",
   "metadata": {},
   "source": [
    "<font color=\"red\">\n",
    "Former la matrice $\\phi(S)*R$, la matrice $\\phi(S)*(R>0)$ et diviser terme à terme ces deux matrices   \n",
    "(Remarque : on pourra utiliser np.divide(numerator,denominator,where = denominator!=0) pour éviter le warning causé par une division par 0).\n",
    "</font>"
   ]
  },
  {
   "cell_type": "code",
   "execution_count": 7,
   "metadata": {},
   "outputs": [],
   "source": [
    "sim = similarity(ratings)\n",
    "numerator = phi(sim).dot(ratings)\n",
    "denominator = phi(sim).dot(ratings>0)\n",
    "pred_ratings = np.divide(numerator,denominator,where = denominator!=0)"
   ]
  },
  {
   "cell_type": "markdown",
   "metadata": {},
   "source": [
    "<font color=\"red\">\n",
    "Afficher les prédictions du premier utilisateur pour les dix premiers items.</font>"
   ]
  },
  {
   "cell_type": "code",
   "execution_count": 8,
   "metadata": {},
   "outputs": [
    {
     "name": "stdout",
     "output_type": "stream",
     "text": [
      "[3.94487119 3.17806131 3.07572428 3.58893284 3.11436061 3.95255235\n",
      " 3.86448983 3.7346677  4.05153698 3.62193599]\n"
     ]
    }
   ],
   "source": [
    "print(pred_ratings[0,:10])"
   ]
  },
  {
   "cell_type": "markdown",
   "metadata": {},
   "source": [
    "Nous pouvons évaluer l'erreur. La métrique classiquement utilisée est le RMSE :\n",
    "$$\n",
    "RMSE = \\sqrt{\\frac 1N\\sum_{(u,i)\\text{ observés}}(R_{u,i}-\\hat R_{u,i})^2}\\,.\n",
    "$$\n",
    "où $N$ est le nombre de ratings observés.  \n",
    "<font color=\"red\">\n",
    "Calculer le RMSE.</font>"
   ]
  },
  {
   "cell_type": "code",
   "execution_count": 9,
   "metadata": {},
   "outputs": [
    {
     "data": {
      "text/plain": [
       "0.748906699319528"
      ]
     },
     "execution_count": 9,
     "metadata": {},
     "output_type": "execute_result"
    }
   ],
   "source": [
    "RMSE = np.sqrt(np.sum(((ratings - pred_ratings) * (ratings>0))**2) / np.sum(ratings>0))\n",
    "RMSE"
   ]
  },
  {
   "cell_type": "markdown",
   "metadata": {},
   "source": [
    "### Validation\n",
    "Afin d'évaluer la performance de la méthode, nous devons diviser les données en un train et un test set, apprendre sur le train, et évaluer le RMSE sur le test.\n",
    "\n",
    "Pour chaque utilisateur, on place 10 ratings dans la base de test.  "
   ]
  },
  {
   "cell_type": "code",
   "execution_count": 10,
   "metadata": {},
   "outputs": [],
   "source": [
    "from scipy.sparse import *\n",
    "import random as rd"
   ]
  },
  {
   "cell_type": "code",
   "execution_count": 11,
   "metadata": {},
   "outputs": [],
   "source": [
    "def train_test_split(df,ratioTraining=0.9):\n",
    "    \n",
    "    n_user = df['user_id'].nunique()\n",
    "    n_item = df['item_id'].nunique()\n",
    "    n_ratings = df.shape[0]\n",
    "    \n",
    "    train_idx = np.sort(rd.sample(range(n_ratings),int(np.floor(ratioTraining*n_ratings))))\n",
    "    test_idx = np.setxor1d(range(n_ratings),train_idx)\n",
    "    \n",
    "    train = coo_matrix((df.iloc[train_idx]['rating'].values,\n",
    "                        (df.iloc[train_idx]['user_id'].values-1,\n",
    "                         df.iloc[train_idx]['item_id'].values-1)),\n",
    "                       shape=(n_user,n_item)).toarray()\n",
    "    \n",
    "    test = coo_matrix((df.iloc[test_idx]['rating'].values,\n",
    "                        (df.iloc[test_idx]['user_id'].values-1,\n",
    "                         df.iloc[test_idx]['item_id'].values-1)),\n",
    "                       shape=(n_user,n_item)).toarray() \n",
    "    \n",
    "    print('Training : %.d exemples, Test : %d exemples' \n",
    "          % (train.nonzero()[0].shape[0],test.nonzero()[0].shape[0]))\n",
    "        \n",
    "    # Test and training are truly disjoint\n",
    "    assert(np.all((train * test) == 0)) \n",
    "    return train, test"
   ]
  },
  {
   "cell_type": "code",
   "execution_count": 12,
   "metadata": {},
   "outputs": [
    {
     "name": "stdout",
     "output_type": "stream",
     "text": [
      "Training : 90000 exemples, Test : 10000 exemples\n"
     ]
    }
   ],
   "source": [
    "train, test = train_test_split(df,0.9)"
   ]
  },
  {
   "cell_type": "markdown",
   "metadata": {},
   "source": [
    "Nous définissons les fonctions nécessaires à la prédiction et l'évaluation"
   ]
  },
  {
   "cell_type": "code",
   "execution_count": 13,
   "metadata": {},
   "outputs": [],
   "source": [
    "def predict_ratings(ratings,sim,phi=(lambda x:x)):\n",
    "    \n",
    "    wsum_sim = np.abs(phi(sim)).dot(ratings>0)\n",
    "    return np.divide(phi(sim).dot(ratings) , wsum_sim, where= wsum_sim!=0)\n",
    "\n",
    "def rmse(ratings,pred):\n",
    "    return np.sqrt(np.sum(((ratings - pred) * (ratings>0))**2) / np.sum(ratings>0))"
   ]
  },
  {
   "cell_type": "markdown",
   "metadata": {},
   "source": [
    "<font color=\"red\">\n",
    "- Avec similarity(), évaluer la matrice de similarité sur le train set.  \n",
    "- Effectuer la prédiction des ratings\n",
    "- Calculer le RMSE sur le test set.\n",
    "</font>"
   ]
  },
  {
   "cell_type": "code",
   "execution_count": 14,
   "metadata": {},
   "outputs": [
    {
     "data": {
      "text/plain": [
       "1.0027366891159424"
      ]
     },
     "execution_count": 14,
     "metadata": {},
     "output_type": "execute_result"
    }
   ],
   "source": [
    "# Calcul de la similarité sur le train\n",
    "sim = similarity(train)\n",
    "# Prédictions\n",
    "pred_ratings = predict_ratings(train,sim,phi)\n",
    "# Performance\n",
    "rmse(test,pred_ratings)"
   ]
  },
  {
   "cell_type": "markdown",
   "metadata": {},
   "source": [
    "### Comparaison\n",
    "<font color=\"red\">\n",
    "Prédire chaque note par la note moyenne de l'utilisateur.</font>"
   ]
  },
  {
   "cell_type": "code",
   "execution_count": 15,
   "metadata": {},
   "outputs": [
    {
     "data": {
      "text/plain": [
       "1.031909555214823"
      ]
     },
     "execution_count": 15,
     "metadata": {},
     "output_type": "execute_result"
    }
   ],
   "source": [
    "av_ratings = train.sum(axis=1) / (train>0).sum(axis=1)\n",
    "rmse(test,av_ratings.reshape(train.shape[0],1))"
   ]
  },
  {
   "cell_type": "markdown",
   "metadata": {},
   "source": [
    "### Bias-subtracted Collaborative Filtering\n",
    "Certains utilisateurs sont susceptibles de donner des notes toujours assez hautes, ou toujours assez basses. Il y a donc un biais, relatif à cet uilisateur. On peut imaginer que la différence relative des notes est plus importante que leur valeur absolue.\n",
    "\n",
    "Nous allons donc soustraire la moyenne des notes de chaque utilisateur avant de sommer sur tous les utilisateurs similaires, puis nous réajouterons la moyenne soustraite à la fin :\n",
    "$$\n",
    "\\hat r_{u,i} = \\bar r_u + \\frac{\\sum_{v} \\varphi(S_{u,v}) (r_{v,i}- \\bar r_v)}{\\sum_{v}\\varphi(S_{u,v})1_{r_{v,i}>0}}\n",
    "$$\n",
    "où $\\bar r_u$ est la note moyenne de l'utilisateur $u$.\n",
    "<br>\n",
    "<font color=\"red\">\n",
    "Observer la différence entre la fonction predict_ratings_bias_sub ci-dessous et la fonction predict_ratings précédente.\n",
    "</font>"
   ]
  },
  {
   "cell_type": "code",
   "execution_count": 16,
   "metadata": {},
   "outputs": [],
   "source": [
    "def predict_ratings_bias_sub(ratings,sim,phi=(lambda x:x)):\n",
    "\n",
    "    r_user = (ratings>0).sum(axis=1)\n",
    "    m_user = np.divide(ratings.sum(axis=1) , r_user, where=(r_user!=0))\n",
    "    ratings_moyens = np.dot(m_user.reshape(len(m_user),1), np.ones((1,ratings.shape[1])))\n",
    "   \n",
    "    wsum_sim = np.abs(phi(sim)).dot(ratings>0)\n",
    "    pred = ratings_moyens + np.divide(phi(sim).dot(ratings-(ratings>0)*ratings_moyens),wsum_sim, where= wsum_sim!=0)\n",
    "    \n",
    "    return np.minimum(5,np.maximum(1,pred))"
   ]
  },
  {
   "cell_type": "markdown",
   "metadata": {},
   "source": [
    "<font color=\"red\">\n",
    "Evaluer les performances de cette nouvelle méthode.</font>"
   ]
  },
  {
   "cell_type": "code",
   "execution_count": 17,
   "metadata": {},
   "outputs": [
    {
     "data": {
      "text/plain": [
       "0.9312742978891926"
      ]
     },
     "execution_count": 17,
     "metadata": {},
     "output_type": "execute_result"
    }
   ],
   "source": [
    "sim = similarity(train)\n",
    "pred_ratings = predict_ratings_bias_sub(train,sim,phi)\n",
    "rmse(test,pred_ratings)"
   ]
  },
  {
   "cell_type": "markdown",
   "metadata": {},
   "source": [
    "### Recommander des films à un utilisateur"
   ]
  },
  {
   "cell_type": "markdown",
   "metadata": {},
   "source": [
    "<font color=\"red\">\n",
    "- Extraire le vecteur des prédiction d'un utilisateur au choix (disons le premier).  \n",
    "- Avec np.argsort et np.flip, créer un vecteur comportant les items_id par ordre décroissant de prédiction.  \n",
    "- Afficher les titres de film les plus pertinents, en utilisant la dataframe movie_titles.\n",
    "</font>"
   ]
  },
  {
   "cell_type": "code",
   "execution_count": 18,
   "metadata": {},
   "outputs": [
    {
     "data": {
      "text/html": [
       "<div>\n",
       "<style scoped>\n",
       "    .dataframe tbody tr th:only-of-type {\n",
       "        vertical-align: middle;\n",
       "    }\n",
       "\n",
       "    .dataframe tbody tr th {\n",
       "        vertical-align: top;\n",
       "    }\n",
       "\n",
       "    .dataframe thead th {\n",
       "        text-align: right;\n",
       "    }\n",
       "</style>\n",
       "<table border=\"1\" class=\"dataframe\">\n",
       "  <thead>\n",
       "    <tr style=\"text-align: right;\">\n",
       "      <th></th>\n",
       "      <th>title</th>\n",
       "    </tr>\n",
       "    <tr>\n",
       "      <th>item_id</th>\n",
       "      <th></th>\n",
       "    </tr>\n",
       "  </thead>\n",
       "  <tbody>\n",
       "    <tr>\n",
       "      <th>851</th>\n",
       "      <td>Two or Three Things I Know About Her (1966)</td>\n",
       "    </tr>\n",
       "    <tr>\n",
       "      <th>1599</th>\n",
       "      <td>Someone Else's America (1995)</td>\n",
       "    </tr>\n",
       "    <tr>\n",
       "      <th>1467</th>\n",
       "      <td>Saint of Fort Washington, The (1993)</td>\n",
       "    </tr>\n",
       "    <tr>\n",
       "      <th>814</th>\n",
       "      <td>Great Day in Harlem, A (1994)</td>\n",
       "    </tr>\n",
       "    <tr>\n",
       "      <th>1500</th>\n",
       "      <td>Santa with Muscles (1996)</td>\n",
       "    </tr>\n",
       "    <tr>\n",
       "      <th>867</th>\n",
       "      <td>Whole Wide World, The (1996)</td>\n",
       "    </tr>\n",
       "    <tr>\n",
       "      <th>1653</th>\n",
       "      <td>Entertaining Angels: The Dorothy Day Story (1996)</td>\n",
       "    </tr>\n",
       "    <tr>\n",
       "      <th>1558</th>\n",
       "      <td>Aparajito (1956)</td>\n",
       "    </tr>\n",
       "    <tr>\n",
       "      <th>1449</th>\n",
       "      <td>Pather Panchali (1955)</td>\n",
       "    </tr>\n",
       "    <tr>\n",
       "      <th>1642</th>\n",
       "      <td>Some Mother's Son (1996)</td>\n",
       "    </tr>\n",
       "  </tbody>\n",
       "</table>\n",
       "</div>"
      ],
      "text/plain": [
       "                                                     title\n",
       "item_id                                                   \n",
       "851            Two or Three Things I Know About Her (1966)\n",
       "1599                         Someone Else's America (1995)\n",
       "1467                  Saint of Fort Washington, The (1993)\n",
       "814                          Great Day in Harlem, A (1994)\n",
       "1500                             Santa with Muscles (1996)\n",
       "867                           Whole Wide World, The (1996)\n",
       "1653     Entertaining Angels: The Dorothy Day Story (1996)\n",
       "1558                                      Aparajito (1956)\n",
       "1449                                Pather Panchali (1955)\n",
       "1642                              Some Mother's Son (1996)"
      ]
     },
     "execution_count": 18,
     "metadata": {},
     "output_type": "execute_result"
    }
   ],
   "source": [
    "user_id = 0\n",
    "best_items = np.flip(np.argsort(pred_ratings[user_id]),axis=0)\n",
    "movie_titles.set_index('item_id').loc[best_items+1].head(10)"
   ]
  },
  {
   "cell_type": "markdown",
   "metadata": {},
   "source": [
    "Comme précédemment, on peut se restreindre aux films ayant plus de 100 notes.  On créée une fonction de recommandation permettant de faire cela."
   ]
  },
  {
   "cell_type": "code",
   "execution_count": 19,
   "metadata": {},
   "outputs": [],
   "source": [
    "def reco_movie(user_id,ratings):\n",
    "    df_rec = movie_titles.join(df.groupby('item_id').count()['rating'],on='item_id')\n",
    "    order = np.flip(np.argsort(ratings[user_id]),axis=0)\n",
    "    ranks = np.argsort(order)+1\n",
    "    df_rec['rank'] = pd.Series(ranks)\n",
    "    df_rec.sort_values(by='rank',inplace=True)\n",
    "    return pd.DataFrame(df_rec[df_rec['rating']>100]['title']).head(10)"
   ]
  },
  {
   "cell_type": "markdown",
   "metadata": {},
   "source": [
    "<font color=\"red\">Tester la fonction de recommandation, pour un ou deux utilisateurs arbitrairement choisis.</font>"
   ]
  },
  {
   "cell_type": "code",
   "execution_count": 20,
   "metadata": {},
   "outputs": [
    {
     "data": {
      "text/html": [
       "<div>\n",
       "<style scoped>\n",
       "    .dataframe tbody tr th:only-of-type {\n",
       "        vertical-align: middle;\n",
       "    }\n",
       "\n",
       "    .dataframe tbody tr th {\n",
       "        vertical-align: top;\n",
       "    }\n",
       "\n",
       "    .dataframe thead th {\n",
       "        text-align: right;\n",
       "    }\n",
       "</style>\n",
       "<table border=\"1\" class=\"dataframe\">\n",
       "  <thead>\n",
       "    <tr style=\"text-align: right;\">\n",
       "      <th></th>\n",
       "      <th>title</th>\n",
       "    </tr>\n",
       "  </thead>\n",
       "  <tbody>\n",
       "    <tr>\n",
       "      <th>168</th>\n",
       "      <td>Wrong Trousers, The (1993)</td>\n",
       "    </tr>\n",
       "    <tr>\n",
       "      <th>407</th>\n",
       "      <td>Close Shave, A (1995)</td>\n",
       "    </tr>\n",
       "    <tr>\n",
       "      <th>49</th>\n",
       "      <td>Star Wars (1977)</td>\n",
       "    </tr>\n",
       "    <tr>\n",
       "      <th>63</th>\n",
       "      <td>Shawshank Redemption, The (1994)</td>\n",
       "    </tr>\n",
       "    <tr>\n",
       "      <th>11</th>\n",
       "      <td>Usual Suspects, The (1995)</td>\n",
       "    </tr>\n",
       "    <tr>\n",
       "      <th>126</th>\n",
       "      <td>Godfather, The (1972)</td>\n",
       "    </tr>\n",
       "    <tr>\n",
       "      <th>171</th>\n",
       "      <td>Empire Strikes Back, The (1980)</td>\n",
       "    </tr>\n",
       "    <tr>\n",
       "      <th>482</th>\n",
       "      <td>Casablanca (1942)</td>\n",
       "    </tr>\n",
       "    <tr>\n",
       "      <th>317</th>\n",
       "      <td>Schindler's List (1993)</td>\n",
       "    </tr>\n",
       "    <tr>\n",
       "      <th>177</th>\n",
       "      <td>12 Angry Men (1957)</td>\n",
       "    </tr>\n",
       "  </tbody>\n",
       "</table>\n",
       "</div>"
      ],
      "text/plain": [
       "                                title\n",
       "168        Wrong Trousers, The (1993)\n",
       "407             Close Shave, A (1995)\n",
       "49                   Star Wars (1977)\n",
       "63   Shawshank Redemption, The (1994)\n",
       "11         Usual Suspects, The (1995)\n",
       "126             Godfather, The (1972)\n",
       "171   Empire Strikes Back, The (1980)\n",
       "482                 Casablanca (1942)\n",
       "317           Schindler's List (1993)\n",
       "177               12 Angry Men (1957)"
      ]
     },
     "execution_count": 20,
     "metadata": {},
     "output_type": "execute_result"
    }
   ],
   "source": [
    "reco_movie(0,pred_ratings)"
   ]
  },
  {
   "cell_type": "code",
   "execution_count": 21,
   "metadata": {},
   "outputs": [
    {
     "data": {
      "text/html": [
       "<div>\n",
       "<style scoped>\n",
       "    .dataframe tbody tr th:only-of-type {\n",
       "        vertical-align: middle;\n",
       "    }\n",
       "\n",
       "    .dataframe tbody tr th {\n",
       "        vertical-align: top;\n",
       "    }\n",
       "\n",
       "    .dataframe thead th {\n",
       "        text-align: right;\n",
       "    }\n",
       "</style>\n",
       "<table border=\"1\" class=\"dataframe\">\n",
       "  <thead>\n",
       "    <tr style=\"text-align: right;\">\n",
       "      <th></th>\n",
       "      <th>title</th>\n",
       "    </tr>\n",
       "  </thead>\n",
       "  <tbody>\n",
       "    <tr>\n",
       "      <th>126</th>\n",
       "      <td>Godfather, The (1972)</td>\n",
       "    </tr>\n",
       "    <tr>\n",
       "      <th>312</th>\n",
       "      <td>Titanic (1997)</td>\n",
       "    </tr>\n",
       "    <tr>\n",
       "      <th>301</th>\n",
       "      <td>L.A. Confidential (1997)</td>\n",
       "    </tr>\n",
       "    <tr>\n",
       "      <th>49</th>\n",
       "      <td>Star Wars (1977)</td>\n",
       "    </tr>\n",
       "    <tr>\n",
       "      <th>407</th>\n",
       "      <td>Close Shave, A (1995)</td>\n",
       "    </tr>\n",
       "    <tr>\n",
       "      <th>271</th>\n",
       "      <td>Good Will Hunting (1997)</td>\n",
       "    </tr>\n",
       "    <tr>\n",
       "      <th>284</th>\n",
       "      <td>Secrets &amp; Lies (1996)</td>\n",
       "    </tr>\n",
       "    <tr>\n",
       "      <th>317</th>\n",
       "      <td>Schindler's List (1993)</td>\n",
       "    </tr>\n",
       "    <tr>\n",
       "      <th>99</th>\n",
       "      <td>Fargo (1996)</td>\n",
       "    </tr>\n",
       "    <tr>\n",
       "      <th>168</th>\n",
       "      <td>Wrong Trousers, The (1993)</td>\n",
       "    </tr>\n",
       "  </tbody>\n",
       "</table>\n",
       "</div>"
      ],
      "text/plain": [
       "                          title\n",
       "126       Godfather, The (1972)\n",
       "312              Titanic (1997)\n",
       "301    L.A. Confidential (1997)\n",
       "49             Star Wars (1977)\n",
       "407       Close Shave, A (1995)\n",
       "271    Good Will Hunting (1997)\n",
       "284       Secrets & Lies (1996)\n",
       "317     Schindler's List (1993)\n",
       "99                 Fargo (1996)\n",
       "168  Wrong Trousers, The (1993)"
      ]
     },
     "execution_count": 21,
     "metadata": {},
     "output_type": "execute_result"
    }
   ],
   "source": [
    "reco_movie(1,pred_ratings)"
   ]
  },
  {
   "cell_type": "code",
   "execution_count": 22,
   "metadata": {},
   "outputs": [
    {
     "data": {
      "text/html": [
       "<div>\n",
       "<style scoped>\n",
       "    .dataframe tbody tr th:only-of-type {\n",
       "        vertical-align: middle;\n",
       "    }\n",
       "\n",
       "    .dataframe tbody tr th {\n",
       "        vertical-align: top;\n",
       "    }\n",
       "\n",
       "    .dataframe thead th {\n",
       "        text-align: right;\n",
       "    }\n",
       "</style>\n",
       "<table border=\"1\" class=\"dataframe\">\n",
       "  <thead>\n",
       "    <tr style=\"text-align: right;\">\n",
       "      <th></th>\n",
       "      <th>title</th>\n",
       "    </tr>\n",
       "  </thead>\n",
       "  <tbody>\n",
       "    <tr>\n",
       "      <th>312</th>\n",
       "      <td>Titanic (1997)</td>\n",
       "    </tr>\n",
       "    <tr>\n",
       "      <th>63</th>\n",
       "      <td>Shawshank Redemption, The (1994)</td>\n",
       "    </tr>\n",
       "    <tr>\n",
       "      <th>407</th>\n",
       "      <td>Close Shave, A (1995)</td>\n",
       "    </tr>\n",
       "    <tr>\n",
       "      <th>317</th>\n",
       "      <td>Schindler's List (1993)</td>\n",
       "    </tr>\n",
       "    <tr>\n",
       "      <th>21</th>\n",
       "      <td>Braveheart (1995)</td>\n",
       "    </tr>\n",
       "    <tr>\n",
       "      <th>49</th>\n",
       "      <td>Star Wars (1977)</td>\n",
       "    </tr>\n",
       "    <tr>\n",
       "      <th>271</th>\n",
       "      <td>Good Will Hunting (1997)</td>\n",
       "    </tr>\n",
       "    <tr>\n",
       "      <th>510</th>\n",
       "      <td>Lawrence of Arabia (1962)</td>\n",
       "    </tr>\n",
       "    <tr>\n",
       "      <th>11</th>\n",
       "      <td>Usual Suspects, The (1995)</td>\n",
       "    </tr>\n",
       "    <tr>\n",
       "      <th>168</th>\n",
       "      <td>Wrong Trousers, The (1993)</td>\n",
       "    </tr>\n",
       "  </tbody>\n",
       "</table>\n",
       "</div>"
      ],
      "text/plain": [
       "                                title\n",
       "312                    Titanic (1997)\n",
       "63   Shawshank Redemption, The (1994)\n",
       "407             Close Shave, A (1995)\n",
       "317           Schindler's List (1993)\n",
       "21                  Braveheart (1995)\n",
       "49                   Star Wars (1977)\n",
       "271          Good Will Hunting (1997)\n",
       "510         Lawrence of Arabia (1962)\n",
       "11         Usual Suspects, The (1995)\n",
       "168        Wrong Trousers, The (1993)"
      ]
     },
     "execution_count": 22,
     "metadata": {},
     "output_type": "execute_result"
    }
   ],
   "source": [
    "reco_movie(509,pred_ratings)"
   ]
  },
  {
   "cell_type": "markdown",
   "metadata": {},
   "source": [
    "### Alternating Least Square\n",
    "On cherche à résoudre le problème d'optimisation suivant :\n",
    "$$\n",
    "\\min_{P,Q} \\sum_{(u,i)\\,\\text{observés}} (R_{u,i}- (PQ)_{u,i})^2 + \\lambda \\|P\\|^2_F+ \\lambda \\|Q\\|^2_F\n",
    "$$\n",
    "où  \n",
    "- $P$ est une matrice $n_{\\text{user}}\\times K$,  \n",
    "- $Q$ est une matrice $K\\times n_{\\text{item}}$,  \n",
    "- $K$ est un entier, $\\lambda>0$ est un paramètre de régularisation,\n",
    "- $\\|\\,.\\,|_F$ représente la norme de Froebenius (la racine de la somme des carrés de ses coefficients).  \n",
    "\n",
    "Le problème d'optimisation est non-convexe. La méthode alternée des moindres carrés (ALS) permet d'obtenir un minimum local du critère ci-dessus. Son fonctionnement est le suivant.  \n",
    "\n",
    "A chaque itération $t$, on dispose d'une estimée $(P_t,Q_t)$ de la solution. On résoud successivement les sous-problèmes suivants :  \n",
    "\\begin{align}\n",
    "& P_{t+1} = \\arg\\min_{P} \\sum_{(u,i)\\,\\text{observés}} (R_{u,i}- (PQ_t)_{u,i})^2 + \\lambda \\|P\\|^2_F \\\\\n",
    "& Q_{t+1} = \\arg\\min_{Q} \\sum_{(u,i)\\,\\text{observés}} (R_{u,i}- (P_{t+1}Q)_{u,i})^2 + \\lambda \\|Q\\|^2_F\n",
    "\\end{align}\n",
    "Ces deux problèmes sont quadratiques et convexes et peuvent être facilement résolu (par exemple, à l'aide d'un algorithme du gradient conjugué). L'algorithme converge vers un minimum local de la fonction objective décrite au début de ce paragraphe.  \n",
    "\n",
    "La méthode ALS est implémentée dans le module ML de Spark. Commençons par créer une session Spark."
   ]
  },
  {
   "cell_type": "code",
   "execution_count": 23,
   "metadata": {},
   "outputs": [],
   "source": [
    "from pyspark.sql import SparkSession\n",
    "spark = SparkSession.builder.getOrCreate()"
   ]
  },
  {
   "cell_type": "markdown",
   "metadata": {},
   "source": [
    "La fonction suivante permet de convertir une matrice d'interactions dans un format pandas dataframe.\n",
    "<font color=\"red\">\n",
    "Visualiser le contenu de la dataframe df_test ci-dessous en affichant ses premières lignes.\n",
    "</font>"
   ]
  },
  {
   "cell_type": "code",
   "execution_count": 24,
   "metadata": {},
   "outputs": [],
   "source": [
    "def convert_to_df(ratings,name='rating'):\n",
    "    R = coo_matrix(ratings)\n",
    "    arr = np.array([R.row.astype('int'),R.col.astype('int'),R.data]).T\n",
    "    df = pd.DataFrame(arr,columns=['user_id','item_id',name])\n",
    "    df['user_id'] = df['user_id'].astype('int')\n",
    "    df['item_id'] = df['item_id'].astype('int')\n",
    "    return df"
   ]
  },
  {
   "cell_type": "code",
   "execution_count": 25,
   "metadata": {},
   "outputs": [
    {
     "data": {
      "text/html": [
       "<div>\n",
       "<style scoped>\n",
       "    .dataframe tbody tr th:only-of-type {\n",
       "        vertical-align: middle;\n",
       "    }\n",
       "\n",
       "    .dataframe tbody tr th {\n",
       "        vertical-align: top;\n",
       "    }\n",
       "\n",
       "    .dataframe thead th {\n",
       "        text-align: right;\n",
       "    }\n",
       "</style>\n",
       "<table border=\"1\" class=\"dataframe\">\n",
       "  <thead>\n",
       "    <tr style=\"text-align: right;\">\n",
       "      <th></th>\n",
       "      <th>user_id</th>\n",
       "      <th>item_id</th>\n",
       "      <th>rating</th>\n",
       "    </tr>\n",
       "  </thead>\n",
       "  <tbody>\n",
       "    <tr>\n",
       "      <th>0</th>\n",
       "      <td>0</td>\n",
       "      <td>0</td>\n",
       "      <td>5</td>\n",
       "    </tr>\n",
       "    <tr>\n",
       "      <th>1</th>\n",
       "      <td>0</td>\n",
       "      <td>1</td>\n",
       "      <td>3</td>\n",
       "    </tr>\n",
       "    <tr>\n",
       "      <th>2</th>\n",
       "      <td>0</td>\n",
       "      <td>2</td>\n",
       "      <td>4</td>\n",
       "    </tr>\n",
       "    <tr>\n",
       "      <th>3</th>\n",
       "      <td>0</td>\n",
       "      <td>3</td>\n",
       "      <td>3</td>\n",
       "    </tr>\n",
       "    <tr>\n",
       "      <th>4</th>\n",
       "      <td>0</td>\n",
       "      <td>5</td>\n",
       "      <td>5</td>\n",
       "    </tr>\n",
       "  </tbody>\n",
       "</table>\n",
       "</div>"
      ],
      "text/plain": [
       "   user_id  item_id  rating\n",
       "0        0        0       5\n",
       "1        0        1       3\n",
       "2        0        2       4\n",
       "3        0        3       3\n",
       "4        0        5       5"
      ]
     },
     "execution_count": 25,
     "metadata": {},
     "output_type": "execute_result"
    }
   ],
   "source": [
    "train_df = convert_to_df(train)\n",
    "test_df = convert_to_df(test)\n",
    "train_df.head(5)"
   ]
  },
  {
   "cell_type": "markdown",
   "metadata": {},
   "source": [
    "<font color=\"red\">Avec spark.createDataFrame, convertir ces deux dataframe-pandas en dataframe-spark.</font>"
   ]
  },
  {
   "cell_type": "code",
   "execution_count": 26,
   "metadata": {},
   "outputs": [],
   "source": [
    "train_df = spark.createDataFrame(train_df)\n",
    "test_df = spark.createDataFrame(test_df)"
   ]
  },
  {
   "cell_type": "markdown",
   "metadata": {},
   "source": [
    "<font color=\"red\">Afficher la première ligne de train_df. Quels noms portent les colonnes ?</font>"
   ]
  },
  {
   "cell_type": "code",
   "execution_count": 27,
   "metadata": {},
   "outputs": [
    {
     "data": {
      "text/plain": [
       "Row(user_id=0, item_id=4, rating=3)"
      ]
     },
     "execution_count": 27,
     "metadata": {},
     "output_type": "execute_result"
    }
   ],
   "source": [
    "test_df.first()"
   ]
  },
  {
   "cell_type": "markdown",
   "metadata": {},
   "source": [
    "<font color=\"red\">Importer la méthode ALS du module pyspark.ml.recommendation. Puis, définir une méthode ALS, en précisant les paramètres suivants.</font>"
   ]
  },
  {
   "cell_type": "code",
   "execution_count": 28,
   "metadata": {},
   "outputs": [],
   "source": [
    "from pyspark.ml.recommendation import ALS\n",
    "als = ALS(maxIter=20, regParam=0.1, rank=20, userCol=\"user_id\", itemCol=\"item_id\", ratingCol=\"rating\",coldStartStrategy=\"drop\")"
   ]
  },
  {
   "cell_type": "markdown",
   "metadata": {},
   "source": [
    "<font color=\"red\">Fitter le modèle aux données d'apprentissage.</font>"
   ]
  },
  {
   "cell_type": "code",
   "execution_count": 29,
   "metadata": {},
   "outputs": [],
   "source": [
    "model = als.fit(train_df)"
   ]
  },
  {
   "cell_type": "markdown",
   "metadata": {},
   "source": [
    "<font color=\"red\">Transformer les données de test.</font>"
   ]
  },
  {
   "cell_type": "code",
   "execution_count": 30,
   "metadata": {},
   "outputs": [],
   "source": [
    "predictions = model.transform(test_df)"
   ]
  },
  {
   "cell_type": "markdown",
   "metadata": {},
   "source": [
    "<font color=\"red\">Quels noms portent les colonnes de la dataframe predictions ?</font>"
   ]
  },
  {
   "cell_type": "code",
   "execution_count": 31,
   "metadata": {},
   "outputs": [
    {
     "data": {
      "text/plain": [
       "['user_id', 'item_id', 'rating', 'prediction']"
      ]
     },
     "execution_count": 31,
     "metadata": {},
     "output_type": "execute_result"
    }
   ],
   "source": [
    "predictions.columns"
   ]
  },
  {
   "cell_type": "code",
   "execution_count": 32,
   "metadata": {},
   "outputs": [
    {
     "data": {
      "text/plain": [
       "0.9104280742076111"
      ]
     },
     "execution_count": 32,
     "metadata": {},
     "output_type": "execute_result"
    }
   ],
   "source": [
    "from pyspark.ml.evaluation import RegressionEvaluator\n",
    "evaluator = RegressionEvaluator(metricName=\"rmse\", labelCol=\"rating\",predictionCol=\"prediction\")\n",
    "evaluator.evaluate(predictions)"
   ]
  },
  {
   "cell_type": "markdown",
   "metadata": {},
   "source": [
    "### Visualisation des résidus\n",
    "On convertit la dataframe Spark predictions en Pandas"
   ]
  },
  {
   "cell_type": "code",
   "execution_count": 33,
   "metadata": {},
   "outputs": [],
   "source": [
    "predictions = predictions.toPandas()"
   ]
  },
  {
   "cell_type": "markdown",
   "metadata": {},
   "source": [
    "<font color=\"red\">\n",
    "Créer la colonne des résidus et afficher son histogramme.</font>"
   ]
  },
  {
   "cell_type": "code",
   "execution_count": 34,
   "metadata": {},
   "outputs": [
    {
     "data": {
      "image/png": "[encoded data removed]",
      "text/plain": [
       "<Figure size 432x288 with 1 Axes>"
      ]
     },
     "metadata": {
      "needs_background": "light"
     },
     "output_type": "display_data"
    }
   ],
   "source": [
    "predictions['residual'] =  predictions['prediction']- predictions['rating']\n",
    "predictions['residual'].hist(bins=100);"
   ]
  },
  {
   "cell_type": "markdown",
   "metadata": {},
   "source": [
    "Le fait qu'un utilisateur et un item soient représentés dans le train set devrait logiquement avoir un impact sur la variance de ses résidus. On souhaite visualiser cet effet.\n",
    "\n",
    "<font color=\"red\">\n",
    "Créer une dataframe ayant pour indice les utilisateurs et pour valeur le nombre de ratings disponibles dans le train set.</font>"
   ]
  },
  {
   "cell_type": "code",
   "execution_count": 35,
   "metadata": {},
   "outputs": [
    {
     "data": {
      "text/html": [
       "<div>\n",
       "<style scoped>\n",
       "    .dataframe tbody tr th:only-of-type {\n",
       "        vertical-align: middle;\n",
       "    }\n",
       "\n",
       "    .dataframe tbody tr th {\n",
       "        vertical-align: top;\n",
       "    }\n",
       "\n",
       "    .dataframe thead th {\n",
       "        text-align: right;\n",
       "    }\n",
       "</style>\n",
       "<table border=\"1\" class=\"dataframe\">\n",
       "  <thead>\n",
       "    <tr style=\"text-align: right;\">\n",
       "      <th></th>\n",
       "      <th>count_user_ratings</th>\n",
       "    </tr>\n",
       "    <tr>\n",
       "      <th>user_id</th>\n",
       "      <th></th>\n",
       "    </tr>\n",
       "  </thead>\n",
       "  <tbody>\n",
       "    <tr>\n",
       "      <th>0</th>\n",
       "      <td>244</td>\n",
       "    </tr>\n",
       "    <tr>\n",
       "      <th>1</th>\n",
       "      <td>57</td>\n",
       "    </tr>\n",
       "    <tr>\n",
       "      <th>2</th>\n",
       "      <td>51</td>\n",
       "    </tr>\n",
       "    <tr>\n",
       "      <th>3</th>\n",
       "      <td>21</td>\n",
       "    </tr>\n",
       "    <tr>\n",
       "      <th>4</th>\n",
       "      <td>157</td>\n",
       "    </tr>\n",
       "  </tbody>\n",
       "</table>\n",
       "</div>"
      ],
      "text/plain": [
       "         count_user_ratings\n",
       "user_id                    \n",
       "0                       244\n",
       "1                        57\n",
       "2                        51\n",
       "3                        21\n",
       "4                       157"
      ]
     },
     "execution_count": 35,
     "metadata": {},
     "output_type": "execute_result"
    }
   ],
   "source": [
    "r_user = (train>0).sum(axis=1)\n",
    "count_ratings = pd.DataFrame(r_user,columns=['count_user_ratings'])\n",
    "count_ratings.index.name = 'user_id'\n",
    "count_ratings.head()"
   ]
  },
  {
   "cell_type": "markdown",
   "metadata": {},
   "source": [
    "<font color=\"red\">\n",
    "Utiliser la méthode predictions.join(..) pour réunir les deux dataframe le long de la colonne user_id.</font>"
   ]
  },
  {
   "cell_type": "code",
   "execution_count": 36,
   "metadata": {},
   "outputs": [],
   "source": [
    "predictions = predictions.join(count_ratings,on='user_id')"
   ]
  },
  {
   "cell_type": "code",
   "execution_count": 37,
   "metadata": {},
   "outputs": [
    {
     "data": {
      "text/html": [
       "<div>\n",
       "<style scoped>\n",
       "    .dataframe tbody tr th:only-of-type {\n",
       "        vertical-align: middle;\n",
       "    }\n",
       "\n",
       "    .dataframe tbody tr th {\n",
       "        vertical-align: top;\n",
       "    }\n",
       "\n",
       "    .dataframe thead th {\n",
       "        text-align: right;\n",
       "    }\n",
       "</style>\n",
       "<table border=\"1\" class=\"dataframe\">\n",
       "  <thead>\n",
       "    <tr style=\"text-align: right;\">\n",
       "      <th></th>\n",
       "      <th>user_id</th>\n",
       "      <th>item_id</th>\n",
       "      <th>rating</th>\n",
       "      <th>prediction</th>\n",
       "      <th>residual</th>\n",
       "      <th>count_user_ratings</th>\n",
       "    </tr>\n",
       "  </thead>\n",
       "  <tbody>\n",
       "    <tr>\n",
       "      <th>0</th>\n",
       "      <td>663</td>\n",
       "      <td>148</td>\n",
       "      <td>3</td>\n",
       "      <td>2.938437</td>\n",
       "      <td>-0.061563</td>\n",
       "      <td>142</td>\n",
       "    </tr>\n",
       "    <tr>\n",
       "      <th>1</th>\n",
       "      <td>404</td>\n",
       "      <td>148</td>\n",
       "      <td>1</td>\n",
       "      <td>1.573207</td>\n",
       "      <td>0.573207</td>\n",
       "      <td>657</td>\n",
       "    </tr>\n",
       "    <tr>\n",
       "      <th>2</th>\n",
       "      <td>341</td>\n",
       "      <td>148</td>\n",
       "      <td>5</td>\n",
       "      <td>3.800641</td>\n",
       "      <td>-1.199359</td>\n",
       "      <td>172</td>\n",
       "    </tr>\n",
       "    <tr>\n",
       "      <th>3</th>\n",
       "      <td>180</td>\n",
       "      <td>148</td>\n",
       "      <td>1</td>\n",
       "      <td>0.953808</td>\n",
       "      <td>-0.046192</td>\n",
       "      <td>396</td>\n",
       "    </tr>\n",
       "    <tr>\n",
       "      <th>4</th>\n",
       "      <td>497</td>\n",
       "      <td>463</td>\n",
       "      <td>4</td>\n",
       "      <td>3.168849</td>\n",
       "      <td>-0.831151</td>\n",
       "      <td>132</td>\n",
       "    </tr>\n",
       "  </tbody>\n",
       "</table>\n",
       "</div>"
      ],
      "text/plain": [
       "   user_id  item_id  rating  prediction  residual  count_user_ratings\n",
       "0      663      148       3    2.938437 -0.061563                 142\n",
       "1      404      148       1    1.573207  0.573207                 657\n",
       "2      341      148       5    3.800641 -1.199359                 172\n",
       "3      180      148       1    0.953808 -0.046192                 396\n",
       "4      497      463       4    3.168849 -0.831151                 132"
      ]
     },
     "execution_count": 37,
     "metadata": {},
     "output_type": "execute_result"
    }
   ],
   "source": [
    "predictions.head(5)"
   ]
  },
  {
   "cell_type": "markdown",
   "metadata": {},
   "source": [
    "On créée de même une colonne correspondant au nombre de ratings de chaque item."
   ]
  },
  {
   "cell_type": "code",
   "execution_count": 38,
   "metadata": {},
   "outputs": [],
   "source": [
    "r_item = (train>0).sum(axis=0)\n",
    "count_ratings = pd.DataFrame(r_item,columns=['count_item_ratings'])\n",
    "count_ratings.index.name = 'item_id'\n",
    "predictions = predictions.join(count_ratings,on='item_id')"
   ]
  },
  {
   "cell_type": "markdown",
   "metadata": {},
   "source": [
    "<font color=\"red\">\n",
    "Créer dans predictions une colonne correspondant au min des deux colonnes 'count_item_ratings' et 'count_user_ratings'\n",
    "</font>"
   ]
  },
  {
   "cell_type": "code",
   "execution_count": 39,
   "metadata": {},
   "outputs": [],
   "source": [
    "predictions['min_count'] = predictions[['count_item_ratings','count_user_ratings']].min(axis=1)"
   ]
  },
  {
   "cell_type": "markdown",
   "metadata": {},
   "source": [
    "<font color=\"red\">\n",
    "Afficher les couple (résidu, min nombre de ratings) avec sns.joinplot.</font>"
   ]
  },
  {
   "cell_type": "code",
   "execution_count": 40,
   "metadata": {},
   "outputs": [
    {
     "data": {
      "image/png": "[encoded data removed]",
      "text/plain": [
       "<Figure size 432x432 with 3 Axes>"
      ]
     },
     "metadata": {
      "needs_background": "light"
     },
     "output_type": "display_data"
    }
   ],
   "source": [
    "import seaborn as sns\n",
    "sns.jointplot(x='residual',y='min_count',data=predictions,alpha=0.05);"
   ]
  },
  {
   "cell_type": "markdown",
   "metadata": {},
   "source": [
    "On a tendance à mieux prédire les notes $r_{u,i}$ lorsque l'utilisateur $u$ et l'item $i$ sont très représentés dans la base de train. Toutefois, même dans ce cas, il reste une dispersion : quelle que soit l'information disponible sur un utilisateur, celui-ci ne peut avoir un comportement parfaitement prédictible. "
   ]
  },
  {
   "cell_type": "code",
   "execution_count": null,
   "metadata": {},
   "outputs": [],
   "source": []
  }
 ],
 "metadata": {
  "kernelspec": {
   "display_name": "Python 3",
   "language": "python",
   "name": "python3"
  },
  "language_info": {
   "codemirror_mode": {
    "name": "ipython",
    "version": 3
   },
   "file_extension": ".py",
   "mimetype": "text/x-python",
   "name": "python",
   "nbconvert_exporter": "python",
   "pygments_lexer": "ipython3",
   "version": "3.7.4"
  }
 },
 "nbformat": 4,
 "nbformat_minor": 2
}
