{
 "cells": [
  {
   "cell_type": "markdown",
   "metadata": {
    "collapsed": true
   },
   "source": [
    "# Contextual Bandits: a rating environment"
   ]
  },
  {
   "cell_type": "markdown",
   "metadata": {},
   "source": [
    "This notebook explore agents performance on a rating environment, also known as explicit feedback."
   ]
  },
  {
   "cell_type": "code",
   "execution_count": 1,
   "metadata": {},
   "outputs": [],
   "source": [
    "%matplotlib inline\n",
    "import numpy as np\n",
    "import matplotlib.pyplot as plt\n",
    "from copy import copy, deepcopy\n",
    "import random\n",
    "from scipy.stats import norm"
   ]
  },
  {
   "cell_type": "code",
   "execution_count": 2,
   "metadata": {},
   "outputs": [],
   "source": [
    "def random_argmax(rng, list_):\n",
    "    \"\"\" similar to np.argmax but return a random element among max\n",
    "        when multiple max exists.\"\"\"\n",
    "    return rng.choice(np.argwhere(list_ == list_.max()).flatten())"
   ]
  },
  {
   "cell_type": "code",
   "execution_count": 3,
   "metadata": {},
   "outputs": [],
   "source": [
    "np.set_printoptions(precision=2)"
   ]
  },
  {
   "cell_type": "markdown",
   "metadata": {},
   "source": [
    "## Environment\n",
    "The Multi-Armed Bandit setting is as follow: \n",
    "\n",
    "At each step you have to chose one arm to pull and recieve a reward accordingly.\n",
    "\n",
    "Here we consider Bernoulli rewards."
   ]
  },
  {
   "cell_type": "code",
   "execution_count": 4,
   "metadata": {},
   "outputs": [],
   "source": [
    "class ExplicitFeedback:\n",
    "    \"\"\" A rating environment with explicit feedback.\n",
    "        User and items are represented by points in R^k\n",
    "        User interest for a given item is modeled by a parametric function\n",
    "        R_{u,i} = f(u,i) = f(W_u, W_i)\n",
    "        Example of function include dot product (cosine similarity)\n",
    "        R_{u,i} = \\sum_k w_{u,k} . w_{i,k}\n",
    "        action: Recommend one item for a given user among those he has never bought before\n",
    "    \"\"\"\n",
    "\n",
    "    def __init__(self, nb_users=30, nb_items=10, \n",
    "                 internal_embedding_size=3,\n",
    "                 displayed_users_embedding_size=2,\n",
    "                 displayed_items_embedding_size=2,\n",
    "                 noise_size=3,\n",
    "                 seed=None):\n",
    "        self.nb_users = nb_users\n",
    "        self.nb_items = nb_items\n",
    "        self.internal_embedding_size = internal_embedding_size\n",
    "        self.displayed_users_embedding_size = displayed_users_embedding_size\n",
    "        self.displayed_items_embedding_size = displayed_items_embedding_size\n",
    "        self.noise_size = noise_size\n",
    "        self._rng = np.random.RandomState(seed)\n",
    "        \n",
    "        self.action_size = self.nb_items\n",
    "        self.sampling_limit = nb_users * nb_items\n",
    "        self.user_mean = np.ones(self.internal_embedding_size)\n",
    "        self.user_var = np.ones(self.internal_embedding_size)\n",
    "        self.item_mean = np.ones(self.internal_embedding_size)\n",
    "        self.item_var = np.ones(self.internal_embedding_size)\n",
    "        self.users_embedding = None\n",
    "        self.items_embedding = None\n",
    "        self.user_item_history = None\n",
    "        self.z_cut_points = None\n",
    "        self.done = False\n",
    "\n",
    "    def step(self, action):\n",
    "        # check if behind done\n",
    "        if self.done: #self.user_item_history.sum() >= self.sampling_limit:\n",
    "            print(\"You are calling step after it return done=True.\\n\"\n",
    "                  \"You should reset the environment.\")\n",
    "\n",
    "        assert action < self.action_size\n",
    "        self.action = action\n",
    "        \n",
    "        # compute potential rewards\n",
    "        potential_rewards = [self._get_user_item_rating(self.current_user, i) \n",
    "                             for i in np.argwhere(self.user_item_history[self.current_user, :] == 0).flatten()]\n",
    "        \n",
    "        optimal_return = np.max(potential_rewards)\n",
    "\n",
    "        # map action to item\n",
    "        self.recommended_item = np.argwhere(self.user_item_history[self.current_user, :] == 0)[action][0]\n",
    "\n",
    "        # mark item as rated\n",
    "        self.user_item_history[self.current_user, self.recommended_item] = 1\n",
    "\n",
    "        # compute reward R_t\n",
    "        self.current_rating = self._get_user_item_rating(self.current_user, self.recommended_item)\n",
    "        self.reward = self.current_rating\n",
    "        \n",
    "        # check if done\n",
    "        if self.user_item_history.sum() == self.sampling_limit:\n",
    "            self.done = True\n",
    "\n",
    "        # compute next state S_{t+1}\n",
    "        self._next_state()\n",
    "\n",
    "        # update action space t+1\n",
    "        self.action_size = len(self.available_items)\n",
    "\n",
    "        return self.reward, self.state, self.done, optimal_return\n",
    "\n",
    "    def reset(self, seed=None):\n",
    "        self._rng = np.random.RandomState(seed)\n",
    "        self.action_size = self.nb_items\n",
    "        \n",
    "        # create users and items embedding matrix\n",
    "        self.users_embedding = self._rng.normal(loc=self.user_mean,\n",
    "                                                scale=self.user_var,\n",
    "                                                size=(self.nb_users, self.internal_embedding_size))\n",
    "        self.items_embedding = self._rng.normal(loc=self.item_mean,\n",
    "                                                scale=self.item_var,\n",
    "                                                size=(self.nb_items, self.internal_embedding_size))\n",
    "\n",
    "        # Let X = users_embedding and Y = items_embedding\n",
    "        # In order to properly map float into integers, we need to know the distribution of\n",
    "        # Z = \\sum_k X_k.Y_k\n",
    "        # E[Z] = \\sum_k E[X_k.Y_k] = \\sum_k E[X_k]E[Y_k]\n",
    "        # Var[Z] = \\sum_k Var[X_k.Y_k] = \\sum_k Var[X_k]Var[Y_k] + Var[X_k]E[Y_k]^2 + Var[Y_k]E[X_k]^2\n",
    "        z_mean = self.user_mean.dot(self.item_mean)\n",
    "        z_var = self.user_var.dot(self.item_var) + self.user_var.dot(np.square(self.item_mean)) + \\\n",
    "                self.item_var.dot(np.square(self.user_mean))\n",
    "        z = norm(z_mean, np.sqrt(z_var))\n",
    "        # to get 5 values, we need 4 cut points\n",
    "        self.z_cut_points = z.ppf([0.2, 0.4, 0.6, 0.8]) # you can control the distribution of ratings here.\n",
    "        self.user_item_history = np.zeros((self.nb_users, self.nb_items))\n",
    "        self.done = False\n",
    "\n",
    "        self._next_state()\n",
    "        return self.state\n",
    "\n",
    "    def _get_user_item_rating(self, user, item):\n",
    "        real_score = self.users_embedding[user].dot(self.items_embedding[item])\n",
    "        integer_score = np.searchsorted(self.z_cut_points, real_score) + 1\n",
    "        return integer_score\n",
    "\n",
    "    def _get_variables(self, user, item):\n",
    "        user_embedding = self.users_embedding[user]\n",
    "        item_embedding = self.items_embedding[item]\n",
    "        if self.displayed_users_embedding_size + self.displayed_items_embedding_size > 0:\n",
    "            variables = np.array([user_embedding[:self.displayed_users_embedding_size],\n",
    "                                  item_embedding[:self.displayed_items_embedding_size]])\n",
    "\n",
    "            if self.noise_size > 0:\n",
    "                noise = self._rng.normal(loc=np.ones(self.noise_size),\n",
    "                                         scale=np.ones(self.noise_size),\n",
    "                                         size=self.noise_size)\n",
    "                variables = np.append(variables, noise)\n",
    "\n",
    "            return variables\n",
    "\n",
    "    def _get_new_user(self):\n",
    "        for i in range(10):\n",
    "            user = self._rng.randint(0, self.nb_users)\n",
    "            # check it remain at least one item\n",
    "            if np.sum(self.user_item_history[user, :]) < self.nb_items:\n",
    "                return user\n",
    "        return self._rng.choice(np.argwhere(self.user_item_history == 0))[0]\n",
    "\n",
    "    def _next_state(self):\n",
    "        # Pick a user\n",
    "        if self.user_item_history.sum() < self.sampling_limit:\n",
    "            self.current_user = self._get_new_user()\n",
    "        else:\n",
    "            self.current_user = None\n",
    "\n",
    "        # List available items\n",
    "        self.available_items = np.argwhere(self.user_item_history[self.current_user, :] == 0)\n",
    "\n",
    "        self.state = list()\n",
    "        for i in self.available_items:\n",
    "            item = i[0]\n",
    "            # Compute variables\n",
    "            variables = self._get_variables(self.current_user, item)\n",
    "            self.state.append([self.current_user, item, variables])\n"
   ]
  },
  {
   "cell_type": "code",
   "execution_count": 5,
   "metadata": {},
   "outputs": [],
   "source": [
    "env = ExplicitFeedback()"
   ]
  },
  {
   "cell_type": "code",
   "execution_count": 6,
   "metadata": {},
   "outputs": [
    {
     "data": {
      "text/plain": [
       "[[11, 0, array([ 0.69,  2.24,  1.32,  2.05, -0.35,  1.84,  2.02])],\n",
       " [11, 1, array([0.69, 2.24, 0.57, 1.12, 1.74, 1.14, 2.4 ])],\n",
       " [11, 2, array([0.69, 2.24, 0.03, 0.65, 0.34, 2.01, 1.88])],\n",
       " [11, 3, array([0.69, 2.24, 0.07, 1.55, 0.01, 0.36, 2.24])],\n",
       " [11, 4, array([0.69, 2.24, 0.75, 0.83, 1.44, 0.41, 0.95])],\n",
       " [11, 5, array([ 0.69,  2.24,  0.78,  0.72, -1.97,  0.14, -1.01])],\n",
       " [11, 6, array([ 0.69,  2.24, -1.49,  0.88,  2.08,  1.32,  0.86])],\n",
       " [11, 7, array([0.69, 2.24, 1.44, 0.5 , 0.32, 1.23, 0.48])],\n",
       " [11, 8, array([ 0.69,  2.24,  1.58, -0.06,  0.72,  3.18,  1.87])],\n",
       " [11, 9, array([0.69, 2.24, 2.16, 1.66, 3.14, 0.51, 2.85])]]"
      ]
     },
     "execution_count": 6,
     "metadata": {},
     "output_type": "execute_result"
    }
   ],
   "source": [
    "env.reset(seed=2020)"
   ]
  },
  {
   "cell_type": "markdown",
   "metadata": {},
   "source": [
    "user 11 is connecting to your platform and we shoud recommend him one item among the ten availables.\n",
    "We also observe a vector of features that could depend on the user, the item and/or some context(like time, weather, etc)."
   ]
  },
  {
   "cell_type": "code",
   "execution_count": 7,
   "metadata": {},
   "outputs": [
    {
     "name": "stdout",
     "output_type": "stream",
     "text": [
      "reward:  4\n"
     ]
    }
   ],
   "source": [
    "reward, next_state, done, optimal_return = env.step(0)\n",
    "print('reward: ', reward)"
   ]
  },
  {
   "cell_type": "markdown",
   "metadata": {},
   "source": [
    "We recommend the first item of the list (item 0) to the user and he rate it 4 over 5.\n",
    "\n",
    "We also get the next state, that is the next user connect to our application, the list of available products for recommendations and a list of features."
   ]
  },
  {
   "cell_type": "code",
   "execution_count": 8,
   "metadata": {},
   "outputs": [
    {
     "data": {
      "text/plain": [
       "[[1, 0, array([ 0.35,  0.11,  1.32,  2.05,  0.42,  1.68, -0.08])],\n",
       " [1, 1, array([0.35, 0.11, 0.57, 1.12, 0.8 , 0.77, 0.59])],\n",
       " [1, 2, array([ 0.35,  0.11,  0.03,  0.65,  0.54, -0.05,  1.13])],\n",
       " [1, 3, array([0.35, 0.11, 0.07, 1.55, 1.68, 1.76, 0.1 ])],\n",
       " [1, 4, array([0.35, 0.11, 0.75, 0.83, 0.2 , 1.49, 1.95])],\n",
       " [1, 5, array([0.35, 0.11, 0.78, 0.72, 2.31, 2.89, 0.69])],\n",
       " [1, 6, array([ 0.35,  0.11, -1.49,  0.88, -0.37,  0.61,  0.69])],\n",
       " [1, 7, array([ 0.35,  0.11,  1.44,  0.5 , -0.72,  1.95,  1.32])],\n",
       " [1, 8, array([ 0.35,  0.11,  1.58, -0.06,  1.31,  1.26,  2.66])],\n",
       " [1, 9, array([ 0.35,  0.11,  2.16,  1.66,  3.16, -0.02,  0.28])]]"
      ]
     },
     "execution_count": 8,
     "metadata": {},
     "output_type": "execute_result"
    }
   ],
   "source": [
    "next_state"
   ]
  },
  {
   "cell_type": "markdown",
   "metadata": {},
   "source": [
    "### User-Item recommender system"
   ]
  },
  {
   "cell_type": "markdown",
   "metadata": {},
   "source": [
    "Let start with a recommender system that use only user_id and item_id.\n",
    "\n",
    "But before let generate some historical data from a random agent."
   ]
  },
  {
   "cell_type": "markdown",
   "metadata": {},
   "source": [
    "## Agent\n",
    "Here we create a very basic agent that will pull arm, i.e.play action, at random."
   ]
  },
  {
   "cell_type": "code",
   "execution_count": 9,
   "metadata": {},
   "outputs": [],
   "source": [
    "class Random:\n",
    "    \"\"\" Random agent. \"\"\"\n",
    "    def __init__(self, nb_arms, seed=None):\n",
    "        self._nb_arms = nb_arms\n",
    "        self._rng = np.random.RandomState(seed)\n",
    "        \n",
    "    def act(self, context):\n",
    "        action = self._rng.randint(len(context)) # note that action size is changing\n",
    "        return action\n",
    "        \n",
    "    def update(self, context, action, reward):\n",
    "        pass\n"
   ]
  },
  {
   "cell_type": "code",
   "execution_count": 10,
   "metadata": {},
   "outputs": [],
   "source": [
    "agent = Random(None, seed=2020)"
   ]
  },
  {
   "cell_type": "markdown",
   "metadata": {},
   "source": [
    "## Run experiment\n",
    "In order to make Agent and Environment interract, we can create an experiment, parametrized by the number of step we will be running."
   ]
  },
  {
   "cell_type": "code",
   "execution_count": 11,
   "metadata": {},
   "outputs": [],
   "source": [
    "def run_exp(agent, env, nb_steps, env_seed):\n",
    "    rewards = np.zeros(nb_steps)\n",
    "    regrets = np.zeros(nb_steps)\n",
    "    actions = np.zeros(nb_steps)\n",
    "    context = env.reset(env_seed)\n",
    "    rating_matrix = np.zeros((env.nb_users, env.nb_items))\n",
    "    for i in range(nb_steps):\n",
    "        # Select action from agent policy.\n",
    "        action = agent.act(context)\n",
    "        \n",
    "        # Play action in the environment and get reward.\n",
    "        reward, next_context, done, optimal_return = env.step(action)\n",
    "        \n",
    "        # Update history\n",
    "        user = context[0][0]\n",
    "        item = context[action][1]\n",
    "        rating = reward\n",
    "        rating_matrix[user, item] = rating\n",
    "        \n",
    "        # Update agent.\n",
    "        agent.update(context, action, reward)\n",
    "        context = next_context\n",
    "        \n",
    "        # Save history.\n",
    "        #context[i] = context\n",
    "        rewards[i] = reward\n",
    "        actions[i] = action\n",
    "        regrets[i] = optimal_return - reward\n",
    "\n",
    "    reward = rewards.sum()\n",
    "    regret = np.sum(regrets)\n",
    "    return {'reward': reward, \n",
    "            'regret': regret,\n",
    "            'rewards': rewards,\n",
    "            'regrets': regrets,\n",
    "            'actions': actions,\n",
    "            'cum_rewards': np.cumsum(rewards), \n",
    "            'cum_regrets': np.cumsum(regrets),\n",
    "            'rating_matrix': rating_matrix\n",
    "            }\n"
   ]
  },
  {
   "cell_type": "markdown",
   "metadata": {},
   "source": [
    "#### Example\n",
    "Let's run our previous agent and environment 100 times."
   ]
  },
  {
   "cell_type": "code",
   "execution_count": 12,
   "metadata": {},
   "outputs": [
    {
     "data": {
      "text/plain": [
       "{'reward': 285.0,\n",
       " 'regret': 112.0,\n",
       " 'rewards': array([4., 2., 3., 2., 2., 2., 3., 2., 3., 2., 5., 2., 2., 3., 5., 2., 4.,\n",
       "        4., 5., 4., 2., 1., 1., 2., 3., 4., 2., 2., 1., 5., 2., 2., 2., 5.,\n",
       "        1., 2., 2., 2., 3., 3., 4., 4., 4., 4., 4., 4., 3., 2., 2., 2., 2.,\n",
       "        5., 3., 5., 3., 2., 4., 3., 2., 4., 4., 5., 3., 2., 2., 5., 3., 2.,\n",
       "        2., 3., 5., 4., 1., 3., 4., 2., 2., 5., 1., 1., 1., 4., 3., 4., 4.,\n",
       "        3., 2., 2., 4., 3., 3., 3., 2., 3., 2., 1., 2., 1., 2., 3.]),\n",
       " 'regrets': array([1., 0., 1., 3., 0., 2., 2., 3., 2., 0., 0., 0., 3., 2., 0., 0., 1.,\n",
       "        1., 0., 1., 0., 3., 1., 0., 1., 1., 3., 0., 1., 0., 3., 2., 2., 0.,\n",
       "        1., 1., 3., 1., 2., 1., 0., 1., 0., 0., 1., 1., 2., 0., 0., 3., 2.,\n",
       "        0., 1., 0., 1., 3., 1., 2., 0., 1., 1., 0., 0., 2., 0., 0., 2., 0.,\n",
       "        0., 2., 0., 1., 2., 2., 0., 2., 1., 0., 1., 1., 1., 1., 2., 1., 0.,\n",
       "        1., 2., 1., 1., 2., 1., 1., 2., 1., 1., 4., 1., 1., 2., 2.]),\n",
       " 'actions': array([0., 8., 3., 6., 3., 3., 7., 8., 0., 0., 8., 9., 3., 7., 2., 3., 6.,\n",
       "        5., 0., 4., 8., 6., 4., 1., 1., 7., 5., 5., 5., 6., 6., 6., 5., 4.,\n",
       "        6., 4., 2., 3., 4., 7., 1., 4., 1., 6., 3., 2., 0., 1., 1., 2., 2.,\n",
       "        7., 1., 0., 2., 8., 8., 5., 6., 3., 3., 2., 0., 0., 7., 6., 4., 6.,\n",
       "        6., 2., 6., 8., 7., 1., 5., 1., 9., 0., 1., 2., 3., 5., 0., 2., 1.,\n",
       "        3., 7., 7., 2., 5., 3., 0., 4., 0., 0., 3., 6., 3., 0., 5.]),\n",
       " 'cum_rewards': array([  4.,   6.,   9.,  11.,  13.,  15.,  18.,  20.,  23.,  25.,  30.,\n",
       "         32.,  34.,  37.,  42.,  44.,  48.,  52.,  57.,  61.,  63.,  64.,\n",
       "         65.,  67.,  70.,  74.,  76.,  78.,  79.,  84.,  86.,  88.,  90.,\n",
       "         95.,  96.,  98., 100., 102., 105., 108., 112., 116., 120., 124.,\n",
       "        128., 132., 135., 137., 139., 141., 143., 148., 151., 156., 159.,\n",
       "        161., 165., 168., 170., 174., 178., 183., 186., 188., 190., 195.,\n",
       "        198., 200., 202., 205., 210., 214., 215., 218., 222., 224., 226.,\n",
       "        231., 232., 233., 234., 238., 241., 245., 249., 252., 254., 256.,\n",
       "        260., 263., 266., 269., 271., 274., 276., 277., 279., 280., 282.,\n",
       "        285.]),\n",
       " 'cum_regrets': array([  1.,   1.,   2.,   5.,   5.,   7.,   9.,  12.,  14.,  14.,  14.,\n",
       "         14.,  17.,  19.,  19.,  19.,  20.,  21.,  21.,  22.,  22.,  25.,\n",
       "         26.,  26.,  27.,  28.,  31.,  31.,  32.,  32.,  35.,  37.,  39.,\n",
       "         39.,  40.,  41.,  44.,  45.,  47.,  48.,  48.,  49.,  49.,  49.,\n",
       "         50.,  51.,  53.,  53.,  53.,  56.,  58.,  58.,  59.,  59.,  60.,\n",
       "         63.,  64.,  66.,  66.,  67.,  68.,  68.,  68.,  70.,  70.,  70.,\n",
       "         72.,  72.,  72.,  74.,  74.,  75.,  77.,  79.,  79.,  81.,  82.,\n",
       "         82.,  83.,  84.,  85.,  86.,  88.,  89.,  89.,  90.,  92.,  93.,\n",
       "         94.,  96.,  97.,  98., 100., 101., 102., 106., 107., 108., 110.,\n",
       "        112.]),\n",
       " 'rating_matrix': array([[0., 0., 0., 2., 1., 1., 0., 0., 0., 0.],\n",
       "        [2., 0., 0., 0., 0., 0., 1., 0., 2., 0.],\n",
       "        [0., 0., 0., 0., 0., 3., 3., 3., 0., 0.],\n",
       "        [0., 0., 0., 0., 0., 0., 5., 3., 0., 0.],\n",
       "        [0., 4., 0., 0., 3., 0., 1., 0., 0., 0.],\n",
       "        [0., 2., 2., 2., 2., 1., 0., 0., 0., 0.],\n",
       "        [0., 0., 0., 0., 5., 0., 0., 5., 2., 0.],\n",
       "        [3., 3., 2., 2., 3., 2., 0., 3., 0., 0.],\n",
       "        [0., 0., 0., 1., 0., 0., 1., 2., 2., 0.],\n",
       "        [0., 0., 0., 0., 0., 0., 5., 0., 0., 0.],\n",
       "        [0., 0., 0., 0., 0., 0., 0., 0., 4., 0.],\n",
       "        [4., 0., 3., 0., 0., 0., 0., 0., 0., 5.],\n",
       "        [3., 0., 0., 0., 0., 4., 4., 0., 0., 0.],\n",
       "        [0., 0., 0., 0., 0., 0., 0., 0., 4., 0.],\n",
       "        [0., 0., 0., 0., 0., 0., 2., 0., 0., 0.],\n",
       "        [3., 4., 0., 2., 0., 3., 2., 0., 0., 0.],\n",
       "        [3., 5., 0., 0., 4., 4., 0., 0., 0., 0.],\n",
       "        [5., 0., 0., 0., 4., 0., 2., 0., 0., 5.],\n",
       "        [0., 0., 3., 0., 0., 3., 2., 0., 0., 0.],\n",
       "        [3., 0., 3., 2., 4., 0., 0., 0., 0., 0.],\n",
       "        [2., 0., 0., 0., 0., 0., 0., 2., 2., 2.],\n",
       "        [5., 0., 0., 0., 0., 0., 0., 0., 2., 0.],\n",
       "        [0., 0., 5., 2., 5., 4., 0., 3., 1., 0.],\n",
       "        [2., 0., 0., 0., 0., 2., 4., 0., 0., 0.],\n",
       "        [0., 0., 0., 2., 2., 0., 0., 0., 0., 1.],\n",
       "        [0., 0., 0., 2., 0., 3., 0., 4., 2., 4.],\n",
       "        [0., 0., 1., 0., 0., 2., 0., 2., 2., 2.],\n",
       "        [3., 4., 0., 3., 0., 0., 0., 2., 0., 4.],\n",
       "        [0., 0., 4., 0., 0., 0., 0., 0., 2., 0.],\n",
       "        [0., 0., 4., 4., 0., 0., 0., 0., 0., 0.]])}"
      ]
     },
     "execution_count": 12,
     "metadata": {},
     "output_type": "execute_result"
    }
   ],
   "source": [
    "run_exp(agent, env, nb_steps=100, env_seed=2020)"
   ]
  },
  {
   "cell_type": "markdown",
   "metadata": {},
   "source": [
    "You can see that on this experiment the total reward is 285 and the regret is 112. You can also have a look at individual rewards, actions or regrets."
   ]
  },
  {
   "cell_type": "markdown",
   "metadata": {},
   "source": [
    "Thanks to the historical data, we can train a matrix factorization algorithm to try to predict the non observed rating values."
   ]
  },
  {
   "cell_type": "markdown",
   "metadata": {},
   "source": [
    "# Recommender system with historical data."
   ]
  },
  {
   "cell_type": "markdown",
   "metadata": {},
   "source": [
    "<font color='red'> For the rest of this notebook, we will assume that when the Agent start it has access to some historical data generated by a random policy. </font>"
   ]
  },
  {
   "cell_type": "markdown",
   "metadata": {},
   "source": [
    "## Matrix factorization\n",
    "Complete the two notebooks on [MovieLens dataset](https://github.com/thibaultallart/IA316-2020/blob/master/notebooks/3a_movieLens_dataset.ipynb) and [Collaborative filtering](https://github.com/thibaultallart/IA316-2020/blob/master/notebooks/3b_collaborative_filtering.ipynb) by Pascal Bianchi."
   ]
  },
  {
   "cell_type": "markdown",
   "metadata": {},
   "source": [
    "## Deep Matrix factorization\n",
    "Complete this notebook on [Explicit Feedback Neural Recommender Systems](https://github.com/m2dsupsdlclass/lectures-labs/blob/master/labs/03_neural_recsys/Explicit_Feedback_Neural_Recommender_System.ipynb) by Olivier Grisel and Charles Ollion"
   ]
  },
  {
   "cell_type": "markdown",
   "metadata": {},
   "source": [
    "## Exercice:\n",
    "1. Implement an Agent whose policy use a Matrix Factorization algorithm using the Alternating Least Squares from pypspark.\n",
    "2. Implement a similar Agent using embeddings in TensorFlow.\n",
    "3. Compare agents performances.\n",
    "4. Modify the Environment in order to return non linear rewards.\n",
    "5. Implement an deep recommender system Agent for explicit rewards."
   ]
  },
  {
   "cell_type": "markdown",
   "metadata": {},
   "source": [
    "## 1. ALS agent"
   ]
  },
  {
   "cell_type": "markdown",
   "metadata": {},
   "source": [
    "## 2. Embedding Agent"
   ]
  },
  {
   "cell_type": "markdown",
   "metadata": {},
   "source": [
    "## 3. Benchmark\n",
    "You can adapt the code below that look at the performance of a random Agent."
   ]
  },
  {
   "cell_type": "code",
   "execution_count": 19,
   "metadata": {},
   "outputs": [],
   "source": [
    "nb_exp = 100\n",
    "nb_steps = 100\n",
    "regret = np.zeros(nb_exp)\n",
    "regrets = np.zeros((nb_exp, nb_steps))\n",
    "for i in range(nb_exp):\n",
    "    env = ExplicitFeedback()\n",
    "    agent = Random(None, seed=i)\n",
    "    exp = run_exp(agent, env, nb_steps, env_seed=i)\n",
    "    regret[i] = exp['regret'] \n",
    "    regrets[i] = exp['cum_regrets']"
   ]
  },
  {
   "cell_type": "code",
   "execution_count": 20,
   "metadata": {},
   "outputs": [
    {
     "data": {
      "image/png": "[encoded data removed]",
      "text/plain": [
       "<Figure size 432x288 with 1 Axes>"
      ]
     },
     "metadata": {
      "needs_background": "light"
     },
     "output_type": "display_data"
    }
   ],
   "source": [
    "plt.plot(regrets.mean(axis=0), color='blue')\n",
    "plt.plot(np.quantile(regrets, 0.05,axis=0), color='grey', alpha=0.5)\n",
    "plt.plot(np.quantile(regrets, 0.95,axis=0), color='grey', alpha=0.5)\n",
    "plt.title('Mean regret: {:.2f}'.format(regret.mean()))\n",
    "plt.xlabel('steps')\n",
    "plt.ylabel('regret')\n",
    "plt.show()"
   ]
  },
  {
   "cell_type": "markdown",
   "metadata": {},
   "source": [
    "## 4. Non linear rewards"
   ]
  },
  {
   "cell_type": "markdown",
   "metadata": {},
   "source": [
    "## 5. Deep Agent"
   ]
  }
 ],
 "metadata": {
  "kernelspec": {
   "display_name": "Python 3",
   "language": "python",
   "name": "python3"
  },
  "language_info": {
   "codemirror_mode": {
    "name": "ipython",
    "version": 3
   },
   "file_extension": ".py",
   "mimetype": "text/x-python",
   "name": "python",
   "nbconvert_exporter": "python",
   "pygments_lexer": "ipython3",
   "version": "3.7.4"
  }
 },
 "nbformat": 4,
 "nbformat_minor": 1
}
