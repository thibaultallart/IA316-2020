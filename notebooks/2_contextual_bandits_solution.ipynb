{
 "cells": [
  {
   "cell_type": "markdown",
   "metadata": {
    "collapsed": true
   },
   "source": [
    "# Contextual Bandits"
   ]
  },
  {
   "cell_type": "markdown",
   "metadata": {},
   "source": [
    "A minimalist notebook to experiement with contextual bandit environments and agents."
   ]
  },
  {
   "cell_type": "code",
   "execution_count": 1,
   "metadata": {},
   "outputs": [],
   "source": [
    "%matplotlib inline\n",
    "import numpy as np\n",
    "import matplotlib.pyplot as plt\n",
    "from copy import copy, deepcopy\n",
    "from scipy.stats import invgamma, gamma\n",
    "from scipy.stats import t as student"
   ]
  },
  {
   "cell_type": "code",
   "execution_count": 2,
   "metadata": {},
   "outputs": [],
   "source": [
    "np.set_printoptions(precision=2)"
   ]
  },
  {
   "cell_type": "code",
   "execution_count": 3,
   "metadata": {},
   "outputs": [],
   "source": [
    "def sigmoid(x):\n",
    "    return 1. / (1. + np.exp(-x))\n",
    "\n",
    "def logit(p):\n",
    "    return np.log(p/(1-p))"
   ]
  },
  {
   "cell_type": "markdown",
   "metadata": {},
   "source": [
    "## Environment\n",
    "The contextual Multi-Armed Bandit setting is as follow: \n",
    "\n",
    "At each step we observe a vector of features for each arm and chose to pull one. We then recieve a reward and observe the features for the next round."
   ]
  },
  {
   "cell_type": "code",
   "execution_count": 4,
   "metadata": {},
   "outputs": [],
   "source": [
    "class CMAB:\n",
    "    \"\"\" \n",
    "    Contextual Multi-Armed Bandit environment with Bernoulli or Gaussian rewards.\n",
    "    \"\"\"\n",
    "    def __init__(self, nb_arms, context_size, coef=None, bernoulli=True, seed=None):\n",
    "        \"\"\" mean_reward_a = coef_{0,a} + \\sum_{j,a} x_{j,a}*beta_{j,a} \"\"\"\n",
    "        self._nb_arms = nb_arms\n",
    "        self._p = context_size\n",
    "        self._bernoulli = bernoulli\n",
    "        self._rng = np.random.RandomState(seed)\n",
    "        \n",
    "        if coef is not None:\n",
    "            assert coef.shape == (self._nb_arms, self._p + 1,)\n",
    "            self._beta = coef\n",
    "        else:\n",
    "            self._beta = self._rng.uniform(size=(self._nb_arms, self._p + 1))\n",
    "    \n",
    "    def step(self, action):\n",
    "        \"\"\" Play an action \"\"\"\n",
    "        self._mean_reward = np.einsum('ij,ij->i', self._context, self._beta)\n",
    "        \n",
    "        \n",
    "        if self._bernoulli:\n",
    "            self._mean_reward = sigmoid(self._mean_reward)\n",
    "            reward = self._rng.binomial(p=self._mean_reward[action], n=1, size=1)[0]\n",
    "        else:\n",
    "            reward = self._rng.normal(loc=self._mean_reward[action], scale=0.1, size=1)[0]\n",
    "        \n",
    "        optimal_return = np.max(self._mean_reward)\n",
    "        \n",
    "        self._context = self._rng.normal(size=(self._nb_arms, self._p + 1))\n",
    "        self._context[:,0] = 1 # constant part, i.e for beta_0\n",
    "        context = deepcopy(self._context)\n",
    "        \n",
    "        return reward, context, optimal_return\n",
    "    \n",
    "    def reset(self):\n",
    "        self._context = self._rng.normal(size=(self._nb_arms, self._p + 1))\n",
    "        self._context[:,0] = 1 # constant part, i.e for beta_0\n",
    "        context = deepcopy(self._context)\n",
    "        return context"
   ]
  },
  {
   "cell_type": "markdown",
   "metadata": {},
   "source": [
    "### Example 1:\n",
    "Let reproduce the previous example as this environment is a generalization of the simple MAB.\n",
    "\n",
    "Set a Bernoulli Multi-Armed Bandit with reward probability of \n",
    "- 50% for arm A\n",
    "- 20% for arm B\n",
    "- 80% for arm C\n",
    "\n",
    "Note that this time we should set the coef to the logit(p) to match the previous example."
   ]
  },
  {
   "cell_type": "code",
   "execution_count": 5,
   "metadata": {},
   "outputs": [],
   "source": [
    "env = CMAB(nb_arms=3, context_size=0, coef=logit(np.array([[.5], [.2], [.8]])), bernoulli=True, seed=2020)"
   ]
  },
  {
   "cell_type": "markdown",
   "metadata": {},
   "source": [
    "We first need to reset the environment to get the initial context"
   ]
  },
  {
   "cell_type": "code",
   "execution_count": 6,
   "metadata": {},
   "outputs": [
    {
     "data": {
      "text/plain": [
       "array([[1.],\n",
       "       [1.],\n",
       "       [1.]])"
      ]
     },
     "execution_count": 6,
     "metadata": {},
     "output_type": "execute_result"
    }
   ],
   "source": [
    "context = env.reset()\n",
    "context"
   ]
  },
  {
   "cell_type": "markdown",
   "metadata": {},
   "source": [
    "The context is the same for all arms, i.e there is no context in this simple multi-armed bandit example."
   ]
  },
  {
   "cell_type": "markdown",
   "metadata": {},
   "source": [
    "Let's play arm C once:"
   ]
  },
  {
   "cell_type": "code",
   "execution_count": 7,
   "metadata": {},
   "outputs": [
    {
     "data": {
      "text/plain": [
       "1"
      ]
     },
     "execution_count": 7,
     "metadata": {},
     "output_type": "execute_result"
    }
   ],
   "source": [
    "reward, context, optimal_return = env.step(2)\n",
    "reward"
   ]
  },
  {
   "cell_type": "markdown",
   "metadata": {},
   "source": [
    "We get a reward of 1.\n",
    "\n",
    "Let's now play arm A."
   ]
  },
  {
   "cell_type": "code",
   "execution_count": 8,
   "metadata": {},
   "outputs": [
    {
     "data": {
      "text/plain": [
       "0"
      ]
     },
     "execution_count": 8,
     "metadata": {},
     "output_type": "execute_result"
    }
   ],
   "source": [
    "reward, context, optimal_return = env.step(0)\n",
    "reward"
   ]
  },
  {
   "cell_type": "markdown",
   "metadata": {},
   "source": [
    "We get no reward."
   ]
  },
  {
   "cell_type": "markdown",
   "metadata": {},
   "source": [
    "### Example 2:\n",
    "Let assume we are facing three armed bandit that display a value on the screen.\n",
    "\n",
    "Their mean reward is now:\n",
    "\\beta_0 + \\beta_1*x\n",
    "\n",
    "where x is the displayed value, or context and betas are constant that differ betwenn the bandits and are hiden to the agent. "
   ]
  },
  {
   "cell_type": "code",
   "execution_count": 9,
   "metadata": {},
   "outputs": [],
   "source": [
    "env = CMAB(nb_arms=3, context_size=1, coef=np.array([[.5, 1], [.2, -1], [.8, 0]]), bernoulli=False, seed=2020)"
   ]
  },
  {
   "cell_type": "markdown",
   "metadata": {},
   "source": [
    "Once again, we should first reset the environment to get the initial context"
   ]
  },
  {
   "cell_type": "code",
   "execution_count": 10,
   "metadata": {},
   "outputs": [
    {
     "data": {
      "text/plain": [
       "array([[ 1.  ,  0.08],\n",
       "       [ 1.  , -0.65],\n",
       "       [ 1.  , -1.27]])"
      ]
     },
     "execution_count": 10,
     "metadata": {},
     "output_type": "execute_result"
    }
   ],
   "source": [
    "context = env.reset()\n",
    "context"
   ]
  },
  {
   "cell_type": "markdown",
   "metadata": {},
   "source": [
    "This mean that the value displayed by the first bandit is 0.08, \n",
    "\n",
    "-0.65 for the second one, etc"
   ]
  },
  {
   "cell_type": "markdown",
   "metadata": {},
   "source": [
    "Let's play arm C once:"
   ]
  },
  {
   "cell_type": "code",
   "execution_count": 11,
   "metadata": {},
   "outputs": [
    {
     "data": {
      "text/plain": [
       "0.7938845568046652"
      ]
     },
     "execution_count": 11,
     "metadata": {},
     "output_type": "execute_result"
    }
   ],
   "source": [
    "reward, context, optimal_return = env.step(2)\n",
    "reward"
   ]
  },
  {
   "cell_type": "markdown",
   "metadata": {},
   "source": [
    "We get a reward of 0.79 and a new context\n",
    "\n",
    "Let's now play arm A."
   ]
  },
  {
   "cell_type": "code",
   "execution_count": 12,
   "metadata": {},
   "outputs": [
    {
     "data": {
      "text/plain": [
       "0.7886771893126919"
      ]
     },
     "execution_count": 12,
     "metadata": {},
     "output_type": "execute_result"
    }
   ],
   "source": [
    "reward, context, optimal_return = env.step(0)\n",
    "reward"
   ]
  },
  {
   "cell_type": "markdown",
   "metadata": {},
   "source": [
    "We get a reward of 0.78."
   ]
  },
  {
   "cell_type": "markdown",
   "metadata": {},
   "source": [
    "Now let's build an Agent that will play with our environment."
   ]
  },
  {
   "cell_type": "markdown",
   "metadata": {},
   "source": [
    "## Agent\n",
    "Here we create a very basic agent that will pull arm, i.e.play action, at random."
   ]
  },
  {
   "cell_type": "code",
   "execution_count": 13,
   "metadata": {},
   "outputs": [],
   "source": [
    "class Random:\n",
    "    \"\"\" Random agent. \"\"\"\n",
    "    def __init__(self, nb_arms, seed=None):\n",
    "        self._nb_arms = nb_arms\n",
    "        self._rng = np.random.RandomState(seed)\n",
    "        \n",
    "    def act(self, context):\n",
    "        action = self._rng.randint(self._nb_arms)\n",
    "        return action\n",
    "        \n",
    "    def update(self, context, action, reward):\n",
    "        pass\n"
   ]
  },
  {
   "cell_type": "markdown",
   "metadata": {},
   "source": [
    "#### Example\n",
    "Let's build an Agent and ask him to choose an action"
   ]
  },
  {
   "cell_type": "code",
   "execution_count": 14,
   "metadata": {},
   "outputs": [
    {
     "data": {
      "text/plain": [
       "0"
      ]
     },
     "execution_count": 14,
     "metadata": {},
     "output_type": "execute_result"
    }
   ],
   "source": [
    "agent = Random(nb_arms=3, seed=2020)\n",
    "agent.act(context)"
   ]
  },
  {
   "cell_type": "markdown",
   "metadata": {},
   "source": [
    "Here the agent choose to play arm A."
   ]
  },
  {
   "cell_type": "markdown",
   "metadata": {},
   "source": [
    "## Run experiment\n",
    "In order to make Agent and Environment interract, we can create an experiment, parametrized by the number of step we will be running."
   ]
  },
  {
   "cell_type": "code",
   "execution_count": 15,
   "metadata": {},
   "outputs": [],
   "source": [
    "def run_exp(agent, env, nb_steps):\n",
    "    rewards = np.zeros(nb_steps)\n",
    "    regrets = np.zeros(nb_steps)\n",
    "    actions = np.zeros(nb_steps)\n",
    "    context = env.reset()\n",
    "    for i in range(nb_steps):\n",
    "        # Select action from agent policy.\n",
    "        action = agent.act(context)\n",
    "        \n",
    "        # Play action in the environment and get reward.\n",
    "        reward, next_context, optimal_return = env.step(action)\n",
    "        \n",
    "        # Update agent.\n",
    "        agent.update(context, action, reward)\n",
    "        context = next_context\n",
    "        \n",
    "        # Save history.\n",
    "        #context[i] = context\n",
    "        rewards[i] = reward\n",
    "        actions[i] = action\n",
    "        regrets[i] = optimal_return - reward\n",
    "\n",
    "    reward = rewards.sum()\n",
    "    regret = np.sum(regrets)\n",
    "    return {'reward': reward, \n",
    "            'regret': regret,\n",
    "            'rewards': rewards,\n",
    "            'regrets': regrets,\n",
    "            'actions': actions,\n",
    "            'cum_rewards': np.cumsum(rewards), \n",
    "            'cum_regrets': np.cumsum(regrets)\n",
    "            }\n"
   ]
  },
  {
   "cell_type": "markdown",
   "metadata": {},
   "source": [
    "#### Example\n",
    "Let's run our previous agent and environment 100 times."
   ]
  },
  {
   "cell_type": "code",
   "execution_count": 16,
   "metadata": {},
   "outputs": [
    {
     "data": {
      "text/plain": [
       "{'reward': 54.57278051522984,\n",
       " 'regret': 63.90923197536222,\n",
       " 'rewards': array([ 0.4 ,  0.77,  0.07, -1.26, -0.73, -0.04,  0.75,  0.47,  0.87,\n",
       "        -0.79,  0.7 ,  0.78,  0.97, -0.26,  0.02,  1.74,  0.44, -0.66,\n",
       "         0.66,  1.64,  1.09,  1.9 , -0.62,  0.76, -0.87,  0.83,  0.47,\n",
       "         0.12,  0.56,  0.76,  0.73,  0.76, -1.19, -0.99,  0.93,  0.83,\n",
       "         1.03,  0.72, -0.94,  1.62,  1.19,  1.  ,  0.74,  0.78,  0.97,\n",
       "         1.84, -0.67,  0.83,  0.89,  1.  ,  1.08,  0.9 ,  1.09,  0.98,\n",
       "         0.75, -1.46,  0.94, -0.19,  0.76,  0.85,  2.05, -1.34,  0.79,\n",
       "         0.2 ,  0.77,  0.8 ,  0.85, -0.44,  0.6 ,  0.57,  0.14,  0.09,\n",
       "        -0.35,  2.49,  1.83,  2.33,  1.  , -0.32, -0.85,  1.16,  0.83,\n",
       "        -0.39,  1.62,  0.84, -0.43,  0.85,  0.7 ,  1.  ,  1.66, -0.61,\n",
       "         1.45,  0.8 ,  1.66,  0.55,  0.96,  0.35,  0.69, -0.73,  0.81,\n",
       "         0.28]),\n",
       " 'regrets': array([ 3.99e-01,  1.13e-01,  7.30e-01,  2.83e+00,  1.53e+00,  8.43e-01,\n",
       "         6.79e-01,  1.26e+00,  5.67e-01,  1.59e+00,  8.44e-01,  6.84e-01,\n",
       "        -1.66e-01,  1.06e+00,  7.78e-01, -6.48e-04,  7.10e-01,  2.09e+00,\n",
       "         1.43e-01, -2.11e-01,  1.11e+00,  1.53e-01,  1.42e+00,  4.39e-02,\n",
       "         1.67e+00,  5.13e-01,  6.18e-01,  6.78e-01,  2.38e-01,  3.76e-02,\n",
       "         7.16e-02,  4.30e-01,  1.99e+00,  1.79e+00,  1.98e+00, -2.71e-02,\n",
       "         4.28e-02,  2.28e+00,  1.74e+00,  7.24e-02,  5.46e-01,  4.24e-01,\n",
       "         5.53e-02,  1.75e-02,  9.78e-01,  5.42e-02,  1.89e+00,  1.50e-01,\n",
       "        -4.41e-02, -9.96e-02,  1.38e-01,  3.73e-02, -1.25e-02,  4.34e-01,\n",
       "         2.79e-01,  2.26e+00, -1.35e-01,  9.90e-01,  4.52e-01, -5.45e-02,\n",
       "         4.14e-02,  2.14e+00,  9.53e-01,  5.96e-01,  2.76e-02,  2.30e-03,\n",
       "        -5.20e-02,  1.24e+00,  1.91e+00,  2.30e-01,  6.62e-01,  7.12e-01,\n",
       "         1.61e+00, -2.79e-02, -1.19e-01, -1.10e-01,  7.51e-01,  1.12e+00,\n",
       "         1.65e+00,  1.50e-01,  8.56e-02,  1.19e+00, -8.73e-02,  5.72e-01,\n",
       "         1.23e+00,  5.21e-01,  9.69e-02,  2.85e-01,  3.61e-02,  1.41e+00,\n",
       "         1.53e-01, -3.19e-03, -4.63e-02,  8.40e-01, -1.61e-01,  4.50e-01,\n",
       "         1.14e-01,  1.53e+00, -5.48e-03,  5.16e-01]),\n",
       " 'actions': array([0., 2., 1., 0., 1., 0., 0., 0., 2., 1., 2., 2., 2., 1., 0., 0., 0.,\n",
       "        0., 2., 0., 1., 1., 1., 2., 1., 2., 1., 1., 2., 2., 2., 2., 1., 0.,\n",
       "        2., 2., 0., 2., 0., 1., 0., 1., 2., 2., 0., 1., 1., 2., 2., 1., 0.,\n",
       "        2., 0., 2., 2., 0., 2., 1., 2., 2., 0., 0., 2., 0., 2., 2., 2., 0.,\n",
       "        2., 2., 1., 0., 1., 1., 1., 1., 1., 1., 0., 1., 2., 1., 0., 2., 1.,\n",
       "        2., 1., 0., 0., 0., 0., 2., 0., 1., 2., 0., 2., 1., 2., 1.]),\n",
       " 'cum_rewards': array([ 4.01e-01,  1.17e+00,  1.24e+00, -2.33e-02, -7.57e-01, -7.99e-01,\n",
       "        -4.74e-02,  4.20e-01,  1.29e+00,  4.93e-01,  1.20e+00,  1.98e+00,\n",
       "         2.95e+00,  2.68e+00,  2.70e+00,  4.44e+00,  4.88e+00,  4.22e+00,\n",
       "         4.88e+00,  6.52e+00,  7.61e+00,  9.51e+00,  8.90e+00,  9.65e+00,\n",
       "         8.79e+00,  9.61e+00,  1.01e+01,  1.02e+01,  1.08e+01,  1.15e+01,\n",
       "         1.23e+01,  1.30e+01,  1.18e+01,  1.08e+01,  1.18e+01,  1.26e+01,\n",
       "         1.36e+01,  1.43e+01,  1.34e+01,  1.50e+01,  1.62e+01,  1.72e+01,\n",
       "         1.79e+01,  1.87e+01,  1.97e+01,  2.15e+01,  2.09e+01,  2.17e+01,\n",
       "         2.26e+01,  2.36e+01,  2.47e+01,  2.56e+01,  2.67e+01,  2.77e+01,\n",
       "         2.84e+01,  2.69e+01,  2.79e+01,  2.77e+01,  2.84e+01,  2.93e+01,\n",
       "         3.14e+01,  3.00e+01,  3.08e+01,  3.10e+01,  3.18e+01,  3.26e+01,\n",
       "         3.34e+01,  3.30e+01,  3.36e+01,  3.42e+01,  3.43e+01,  3.44e+01,\n",
       "         3.40e+01,  3.65e+01,  3.84e+01,  4.07e+01,  4.17e+01,  4.14e+01,\n",
       "         4.05e+01,  4.17e+01,  4.25e+01,  4.21e+01,  4.37e+01,  4.46e+01,\n",
       "         4.42e+01,  4.50e+01,  4.57e+01,  4.67e+01,  4.84e+01,  4.78e+01,\n",
       "         4.92e+01,  5.00e+01,  5.17e+01,  5.22e+01,  5.32e+01,  5.35e+01,\n",
       "         5.42e+01,  5.35e+01,  5.43e+01,  5.46e+01]),\n",
       " 'cum_regrets': array([ 0.4 ,  0.51,  1.24,  4.07,  5.6 ,  6.44,  7.12,  8.39,  8.95,\n",
       "        10.55, 11.39, 12.07, 11.91, 12.97, 13.75, 13.75, 14.46, 16.55,\n",
       "        16.7 , 16.48, 17.6 , 17.75, 19.17, 19.21, 20.88, 21.39, 22.01,\n",
       "        22.69, 22.93, 22.96, 23.04, 23.47, 25.46, 27.24, 29.22, 29.19,\n",
       "        29.24, 31.52, 33.26, 33.34, 33.88, 34.31, 34.36, 34.38, 35.36,\n",
       "        35.41, 37.3 , 37.45, 37.41, 37.31, 37.44, 37.48, 37.47, 37.9 ,\n",
       "        38.18, 40.45, 40.31, 41.3 , 41.75, 41.7 , 41.74, 43.88, 44.84,\n",
       "        45.43, 45.46, 45.46, 45.41, 46.65, 48.56, 48.79, 49.45, 50.16,\n",
       "        51.77, 51.74, 51.63, 51.52, 52.27, 53.39, 55.03, 55.18, 55.27,\n",
       "        56.46, 56.37, 56.94, 58.17, 58.69, 58.79, 59.08, 59.11, 60.52,\n",
       "        60.67, 60.67, 60.62, 61.46, 61.3 , 61.75, 61.86, 63.4 , 63.39,\n",
       "        63.91])}"
      ]
     },
     "execution_count": 16,
     "metadata": {},
     "output_type": "execute_result"
    }
   ],
   "source": [
    "run_exp(agent, env, nb_steps=100)"
   ]
  },
  {
   "cell_type": "markdown",
   "metadata": {},
   "source": [
    "You can see that on this experiment the total reward is 54 and the regret is 63. You can also have a look at individual rewards, actions or regrets.\n",
    "\n",
    "Due to stochasticity of both the environment and the agent, it's better to run multiple experiments."
   ]
  },
  {
   "cell_type": "markdown",
   "metadata": {},
   "source": [
    "## Multiple experiments"
   ]
  },
  {
   "cell_type": "markdown",
   "metadata": {},
   "source": [
    "In order to get empirical confidence bound on those statistics we can run the experiment multiple time.\n",
    "\n",
    "Hint: don't forget to change the seed. "
   ]
  },
  {
   "cell_type": "code",
   "execution_count": 17,
   "metadata": {},
   "outputs": [],
   "source": [
    "nb_exp = 1000\n",
    "nb_steps = 100\n",
    "regret = np.zeros(nb_exp)\n",
    "regrets = np.zeros((nb_exp, nb_steps))\n",
    "for i in range(nb_exp):\n",
    "    env = CMAB(nb_arms=3, context_size=1, coef=np.array([[.5, 1], [.2, -1], [.8, 0]]), \n",
    "               bernoulli=False, seed=i)\n",
    "    agent = Random(env._nb_arms, seed=i)\n",
    "    exp = run_exp(agent, env, nb_steps)\n",
    "    regret[i] = exp['regret'] \n",
    "    regrets[i] = exp['cum_regrets']"
   ]
  },
  {
   "cell_type": "code",
   "execution_count": 18,
   "metadata": {},
   "outputs": [
    {
     "data": {
      "image/png": "[encoded data removed]",
      "text/plain": [
       "<Figure size 432x288 with 1 Axes>"
      ]
     },
     "metadata": {
      "needs_background": "light"
     },
     "output_type": "display_data"
    }
   ],
   "source": [
    "plt.plot(regrets.mean(axis=0), color='blue')\n",
    "plt.plot(np.quantile(regrets, 0.05,axis=0), color='grey', alpha=0.5)\n",
    "plt.plot(np.quantile(regrets, 0.95,axis=0), color='grey', alpha=0.5)\n",
    "plt.title('Mean regret: {:.2f}'.format(regret.mean()))\n",
    "plt.xlabel('steps')\n",
    "plt.ylabel('regret')\n",
    "plt.show()"
   ]
  },
  {
   "cell_type": "markdown",
   "metadata": {},
   "source": [
    "Here you can see the average regret over steps and the empirical 5% and 95% confidence intervall.\n",
    "\n",
    "Note that the stochasticity is may comes from the agent and/or the environment."
   ]
  },
  {
   "cell_type": "code",
   "execution_count": 19,
   "metadata": {},
   "outputs": [
    {
     "data": {
      "image/png": "[encoded data removed]",
      "text/plain": [
       "<Figure size 432x288 with 1 Axes>"
      ]
     },
     "metadata": {
      "needs_background": "light"
     },
     "output_type": "display_data"
    }
   ],
   "source": [
    "plt.hist(regret)\n",
    "plt.show()"
   ]
  },
  {
   "cell_type": "markdown",
   "metadata": {},
   "source": [
    "Here is the distribution of the total regret.\n",
    "\n",
    "In this simple case you could compute it exactly by hand."
   ]
  },
  {
   "cell_type": "markdown",
   "metadata": {},
   "source": [
    "# Exercices:"
   ]
  },
  {
   "cell_type": "markdown",
   "metadata": {},
   "source": [
    "1. Implement an epsilon-greedy agent.\n",
    "2. Implement an UCB agent.\n",
    "3. Implement a Thompson sampling agent."
   ]
  },
  {
   "cell_type": "markdown",
   "metadata": {},
   "source": [
    "## 1. Epsilon-greedy "
   ]
  },
  {
   "cell_type": "code",
   "execution_count": 20,
   "metadata": {},
   "outputs": [],
   "source": [
    "def random_argmax(rng, list_):\n",
    "    \"\"\" similar to np.argmax but return a random element among max\n",
    "        when multiple max exists.\"\"\"\n",
    "    return rng.choice(np.argwhere(list_ == list_.max()).flatten())"
   ]
  },
  {
   "cell_type": "code",
   "execution_count": 21,
   "metadata": {},
   "outputs": [],
   "source": [
    "class EpsilonGreedy:\n",
    "    \"\"\" Epsilon greedy agent. \"\"\"\n",
    "    def __init__(self, nb_arms, context_size, lr=.1, epsilon=0, seed=None):\n",
    "        self._nb_arms = nb_arms\n",
    "        self._p = context_size\n",
    "        self._lr = lr\n",
    "        self._epsilon = epsilon\n",
    "        self._rng = np.random.RandomState(seed)\n",
    "        self._beta = np.zeros((nb_arms, self._p)) \n",
    "        self._n = np.zeros(nb_arms)\n",
    "        self._pred_reward = np.zeros(nb_arms)\n",
    "        \n",
    "    def act(self, context):\n",
    "        if self._rng.random() < self._epsilon:\n",
    "            action = self._rng.randint(self._nb_arms)\n",
    "        else:\n",
    "            pred_reward = np.einsum('ij,ij->i', context, self._beta)\n",
    "            action = random_argmax(self._rng, pred_reward)\n",
    "        return action\n",
    "        \n",
    "    def update(self, context, action, reward):\n",
    "        \"\"\" Simple gradient descent. \"\"\"\n",
    "        self._n[action] += 1\n",
    "        grad = - context[action] * (reward - context[action].dot(self._beta[action]))\n",
    "        self._beta[action] = self._beta[action] - self._lr/self._n[action] * grad\n",
    "        "
   ]
  },
  {
   "cell_type": "code",
   "execution_count": 22,
   "metadata": {},
   "outputs": [],
   "source": [
    "nb_exp = 1000\n",
    "nb_steps = 100\n",
    "regret = np.zeros(nb_exp)\n",
    "regrets = np.zeros((nb_exp, nb_steps))\n",
    "for i in range(nb_exp):\n",
    "    env = CMAB(nb_arms=3, context_size=1, coef=np.array([[.5, 1], [.2, -1], [.8, 0]]), \n",
    "               bernoulli=False, seed=i)\n",
    "    agent = EpsilonGreedy(env._nb_arms, context_size=2, lr=1, epsilon=0.1, seed=i)\n",
    "    exp = run_exp(agent, env, nb_steps)\n",
    "    regret[i] = exp['regret'] \n",
    "    regrets[i] = exp['cum_regrets']"
   ]
  },
  {
   "cell_type": "code",
   "execution_count": 23,
   "metadata": {},
   "outputs": [
    {
     "name": "stdout",
     "output_type": "stream",
     "text": [
      "True beta: \n",
      " [[ 0.5  1. ]\n",
      " [ 0.2 -1. ]\n",
      " [ 0.8  0. ]]\n",
      "Estimated beta on the last experiment: \n",
      " [[ 0.45  1.05]\n",
      " [ 0.4  -0.8 ]\n",
      " [ 0.71 -0.12]]\n"
     ]
    }
   ],
   "source": [
    "print('True beta: \\n', env._beta)\n",
    "print('Estimated beta on the last experiment: \\n', agent._beta)"
   ]
  },
  {
   "cell_type": "code",
   "execution_count": 24,
   "metadata": {},
   "outputs": [
    {
     "data": {
      "image/png": "[encoded data removed]",
      "text/plain": [
       "<Figure size 432x288 with 1 Axes>"
      ]
     },
     "metadata": {
      "needs_background": "light"
     },
     "output_type": "display_data"
    }
   ],
   "source": [
    "plt.plot(regrets.mean(axis=0), color='blue')\n",
    "plt.plot(np.quantile(regrets, 0.05,axis=0), color='grey', alpha=0.5)\n",
    "plt.plot(np.quantile(regrets, 0.95,axis=0), color='grey', alpha=0.5)\n",
    "plt.title('Mean regret: {:.2f}'.format(regret.mean()))\n",
    "plt.xlabel('steps')\n",
    "plt.ylabel('regret')\n",
    "plt.show()"
   ]
  },
  {
   "cell_type": "markdown",
   "metadata": {},
   "source": [
    "## 3. Thompson sampling"
   ]
  },
  {
   "cell_type": "markdown",
   "metadata": {},
   "source": [
    "Reference: \n",
    "- https://arxiv.org/abs/1802.09127\n",
    "- https://en.wikipedia.org/wiki/Bayesian_linear_regression\n",
    "\n",
    "Wishard distribution is a generalization to multiple dimensions of the gamma distribution."
   ]
  },
  {
   "cell_type": "code",
   "execution_count": 25,
   "metadata": {},
   "outputs": [],
   "source": [
    "class NormalInverseWishart(object):\n",
    "    def __init__(self, p, sigma = .01, a=2, b=2):\n",
    "        self._p = p         # numbe of dimension\n",
    "        self._mean_0 = np.zeros(p) # vector of mean\n",
    "        self._precision_0 = sigma * np.eye(self._p) \n",
    "        self._a_0 = a\n",
    "        self._b_0 = b\n",
    "        self._n = 0\n",
    "        \n",
    "        self._x = np.empty((0, self._p), float)\n",
    "        self._y = np.empty((0, 1), float)\n",
    "\n",
    "    def update(self, context, reward):\n",
    "        self._n += 1\n",
    "        \n",
    "        # storing data\n",
    "        self._x = np.append(self._x, context.reshape(1, self._p), axis=0)\n",
    "        self._y = np.append(self._y, reward.reshape(1,1), axis=0)\n",
    "\n",
    "        s = np.dot(self._x.T, self._x)\n",
    "        new_precision = self._precision_0 + s  \n",
    "        cov = np.linalg.inv(new_precision)\n",
    "        \n",
    "        new_mean = np.dot(cov, np.dot(self._precision_0, self._mean_0) + (np.dot(self._x.T, self._y)).flatten())\n",
    "        self._a = self._a_0 + self._n/2.\n",
    "        self._b = self._b_0 + 0.5 * (  np.dot(np.transpose(self._y), self._y) \n",
    "                                     + np.dot(self._mean_0.T, np.dot(self._precision_0, self._mean_0)) \n",
    "                                     - np.dot(new_mean.T, np.dot(new_precision, new_mean)))\n",
    "               \n",
    "        self._mean = new_mean\n",
    "        self._precision = new_precision\n",
    "        \n",
    "        # exercice: implement an online version\n",
    "\n",
    "    def sample(self, context, np_random):\n",
    "        if self._n <= 2:\n",
    "            return np.Inf\n",
    "        else:           \n",
    "            sigma = self._b * invgamma.rvs(self._a)\n",
    "            beta = np.random.multivariate_normal(self._mean, sigma * self._precision**-1)\n",
    "            return beta.dot(context)\n",
    "        \n",
    "class Thompson_sampling:\n",
    "    \"\"\" Thompson sampling agent. \"\"\"\n",
    "    def __init__(self, nb_arms, p, dist=NormalInverseWishart, seed=None):\n",
    "        self._nb_arms = nb_arms\n",
    "        self._rng = np.random.RandomState(seed)\n",
    "        self._posterior = [dist(p) for i in range(self._nb_arms)]\n",
    "        \n",
    "    def act(self, context):\n",
    "        sample = np.array([self._posterior[i].sample(context[i], self._rng)\n",
    "                           for i in range(self._nb_arms)])\n",
    "        action = np.argmax(sample)\n",
    "        return action\n",
    "        \n",
    "    def update(self, context, action, reward):\n",
    "        self._posterior[action].update(context[action], reward)"
   ]
  },
  {
   "cell_type": "code",
   "execution_count": 26,
   "metadata": {},
   "outputs": [
    {
     "name": "stderr",
     "output_type": "stream",
     "text": [
      "/Users/thibaultallart/opt/anaconda3/lib/python3.7/site-packages/ipykernel_launcher.py:40: RuntimeWarning: covariance is not positive-semidefinite.\n"
     ]
    },
    {
     "data": {
      "image/png": "[encoded data removed]",
      "text/plain": [
       "<Figure size 432x288 with 1 Axes>"
      ]
     },
     "metadata": {
      "needs_background": "light"
     },
     "output_type": "display_data"
    }
   ],
   "source": [
    "nb_exp = 100\n",
    "nb_steps = 100\n",
    "regret = np.zeros(nb_exp)\n",
    "regrets = np.zeros((nb_exp, nb_steps))\n",
    "for i in range(nb_exp):\n",
    "    env = CMAB(nb_arms=3, context_size=1, coef=np.array([[.5, 1], [.2, -1], [.8, 0]]), \n",
    "               bernoulli=False, seed=i)\n",
    "    agent = Thompson_sampling(env._nb_arms, p=2, dist=NormalInverseWishart, seed=i)\n",
    "    exp = run_exp(agent, env, nb_steps)\n",
    "    regret[i] = exp['regret'] \n",
    "    regrets[i] = exp['cum_regrets']\n",
    "plt.plot(regrets.mean(axis=0), color='blue')\n",
    "plt.plot(np.quantile(regrets, 0.05,axis=0), color='grey', alpha=0.5)\n",
    "plt.plot(np.quantile(regrets, 0.95,axis=0), color='grey', alpha=0.5)\n",
    "plt.title('Mean regret: {:.2f}'.format(regret.mean()))\n",
    "plt.xlabel('steps')\n",
    "plt.ylabel('regret')\n",
    "plt.show()"
   ]
  },
  {
   "cell_type": "code",
   "execution_count": null,
   "metadata": {},
   "outputs": [],
   "source": []
  }
 ],
 "metadata": {
  "kernelspec": {
   "display_name": "Python 3",
   "language": "python",
   "name": "python3"
  },
  "language_info": {
   "codemirror_mode": {
    "name": "ipython",
    "version": 3
   },
   "file_extension": ".py",
   "mimetype": "text/x-python",
   "name": "python",
   "nbconvert_exporter": "python",
   "pygments_lexer": "ipython3",
   "version": "3.7.4"
  }
 },
 "nbformat": 4,
 "nbformat_minor": 1
}
