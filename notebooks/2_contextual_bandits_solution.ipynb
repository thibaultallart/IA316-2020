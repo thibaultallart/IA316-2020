{
 "cells": [
  {
   "cell_type": "markdown",
   "metadata": {
    "collapsed": true
   },
   "source": [
    "# Contextual Bandits"
   ]
  },
  {
   "cell_type": "markdown",
   "metadata": {},
   "source": [
    "A minimalist notebook to experiement with contextual bandit environments and agents."
   ]
  },
  {
   "cell_type": "code",
   "execution_count": 1,
   "metadata": {},
   "outputs": [],
   "source": [
    "%matplotlib inline\n",
    "import numpy as np\n",
    "import matplotlib.pyplot as plt\n",
    "from copy import copy, deepcopy\n",
    "from scipy.stats import invgamma, gamma\n",
    "from scipy.stats import t as student"
   ]
  },
  {
   "cell_type": "code",
   "execution_count": 2,
   "metadata": {},
   "outputs": [],
   "source": [
    "def sigmoid(x):\n",
    "    return 1. / (1. + np.exp(-x))\n",
    "\n",
    "def logit(p):\n",
    "    return np.log(p/(1-p))"
   ]
  },
  {
   "cell_type": "markdown",
   "metadata": {},
   "source": [
    "## Environment\n",
    "The Multi-Armed Bandit setting is as follow: \n",
    "\n",
    "At each step you have to chose one arm to pull and recieve a reward accordingly.\n",
    "\n",
    "Here we consider Bernoulli rewards."
   ]
  },
  {
   "cell_type": "code",
   "execution_count": 3,
   "metadata": {},
   "outputs": [],
   "source": [
    "class CMAB:\n",
    "    \"\"\" \n",
    "    Contextual Multi-Armed Bandit environment with bernoulli rewards.\n",
    "    \"\"\"\n",
    "    def __init__(self, nb_arms, context_size, coef=None, bernoulli=True, seed=None):\n",
    "        \"\"\" mean_reward_a = coef_{0,a} + \\sum_{j,a} x_{j,a}*beta_{j,a} \"\"\"\n",
    "        self._nb_arms = nb_arms\n",
    "        self._p = context_size\n",
    "        self._bernoulli = bernoulli\n",
    "        self._rng = np.random.RandomState(seed)\n",
    "        \n",
    "        if coef is not None:\n",
    "            assert coef.shape == (self._nb_arms, self._p + 1,)\n",
    "            self._beta = coef\n",
    "        else:\n",
    "            self._beta = self._rng.uniform(size=(self._nb_arms, self._p + 1))\n",
    "    \n",
    "    def step(self, action):\n",
    "        \"\"\" Play an action \"\"\"\n",
    "        self._mean_reward = np.einsum('ij,ij->i', self._context, self._beta)\n",
    "        \n",
    "        \n",
    "        if self._bernoulli:\n",
    "            self._mean_reward = sigmoid(self._mean_reward)\n",
    "            reward = self._rng.binomial(p=self._mean_reward[action], n=1, size=1)[0]\n",
    "        else:\n",
    "            reward = self._rng.normal(loc=self._mean_reward[action], scale=0.1, size=1)[0]\n",
    "        \n",
    "        optimal_return = np.max(self._mean_reward)\n",
    "        \n",
    "        self._context = self._rng.normal(size=(self._nb_arms, self._p + 1))\n",
    "        self._context[:,0] = 1 # constant part, i.e for beta_0\n",
    "        context = deepcopy(self._context)\n",
    "        \n",
    "        return reward, context, optimal_return\n",
    "    \n",
    "    def reset(self):\n",
    "        self._context = self._rng.normal(size=(self._nb_arms, self._p + 1))\n",
    "        self._context[:,0] = 1 # constant part, i.e for beta_0\n",
    "        context = deepcopy(self._context)\n",
    "        return context"
   ]
  },
  {
   "cell_type": "markdown",
   "metadata": {},
   "source": [
    "### Example 1:\n",
    "Let reproduce the previous example as this environment is a generalization of the simple MAB.\n",
    "\n",
    "Set a Bernoulli Multi-Armed Bandit with reward probability of \n",
    "- 50% for arm A\n",
    "- 20% for arm B\n",
    "- 80% for arm C\n",
    "\n",
    "Note that this time we should set the coef to the logit(p) to match the previous example."
   ]
  },
  {
   "cell_type": "code",
   "execution_count": 4,
   "metadata": {},
   "outputs": [],
   "source": [
    "env = CMAB(nb_arms=3, context_size=0, coef=logit(np.array([[.5], [.2], [.8]])), bernoulli=True, seed=2020)"
   ]
  },
  {
   "cell_type": "markdown",
   "metadata": {},
   "source": [
    "We first need to reset the environment to get the initial context"
   ]
  },
  {
   "cell_type": "code",
   "execution_count": 5,
   "metadata": {},
   "outputs": [
    {
     "data": {
      "text/plain": [
       "array([[1.],\n",
       "       [1.],\n",
       "       [1.]])"
      ]
     },
     "execution_count": 5,
     "metadata": {},
     "output_type": "execute_result"
    }
   ],
   "source": [
    "context = env.reset()\n",
    "context"
   ]
  },
  {
   "cell_type": "markdown",
   "metadata": {},
   "source": [
    "The context is the same for all arms, i.e there is no context in this simple multi-armed bandit example."
   ]
  },
  {
   "cell_type": "markdown",
   "metadata": {},
   "source": [
    "Let's play arm C once:"
   ]
  },
  {
   "cell_type": "code",
   "execution_count": 6,
   "metadata": {},
   "outputs": [
    {
     "data": {
      "text/plain": [
       "1"
      ]
     },
     "execution_count": 6,
     "metadata": {},
     "output_type": "execute_result"
    }
   ],
   "source": [
    "reward, context, optimal_return = env.step(2)\n",
    "reward"
   ]
  },
  {
   "cell_type": "markdown",
   "metadata": {},
   "source": [
    "We get a reward of 1.\n",
    "\n",
    "Let's now play arm A."
   ]
  },
  {
   "cell_type": "code",
   "execution_count": 7,
   "metadata": {},
   "outputs": [
    {
     "data": {
      "text/plain": [
       "0"
      ]
     },
     "execution_count": 7,
     "metadata": {},
     "output_type": "execute_result"
    }
   ],
   "source": [
    "reward, context, optimal_return = env.step(0)\n",
    "reward"
   ]
  },
  {
   "cell_type": "markdown",
   "metadata": {},
   "source": [
    "We get no reward."
   ]
  },
  {
   "cell_type": "markdown",
   "metadata": {},
   "source": [
    "### Example 2:\n",
    "Let assume we are facing three armed bandit that display a value on the screen.\n",
    "\n",
    "Their mean reward is now:\n",
    "\\beta_0 + \\beta_1*x\n",
    "\n",
    "where x is the displayed value, or context and betas are constant that differ betwenn the bandits and are hiden to the agent. "
   ]
  },
  {
   "cell_type": "code",
   "execution_count": 8,
   "metadata": {},
   "outputs": [],
   "source": [
    "env = CMAB(nb_arms=3, context_size=1, coef=np.array([[.5, 1], [.2, -1], [.8, 0]]), bernoulli=False, seed=2020)"
   ]
  },
  {
   "cell_type": "markdown",
   "metadata": {},
   "source": [
    "Once again, we should first reset the environment to get the initial context"
   ]
  },
  {
   "cell_type": "code",
   "execution_count": 9,
   "metadata": {},
   "outputs": [
    {
     "data": {
      "text/plain": [
       "array([[ 1.        ,  0.07555227],\n",
       "       [ 1.        , -0.65143017],\n",
       "       [ 1.        , -1.27410098]])"
      ]
     },
     "execution_count": 9,
     "metadata": {},
     "output_type": "execute_result"
    }
   ],
   "source": [
    "context = env.reset()\n",
    "context"
   ]
  },
  {
   "cell_type": "markdown",
   "metadata": {},
   "source": [
    "This mean that the value displayed by the first bandit is 0.075, \n",
    "\n",
    "-0.651 for the second one, etc"
   ]
  },
  {
   "cell_type": "markdown",
   "metadata": {},
   "source": [
    "Let's play arm C once:"
   ]
  },
  {
   "cell_type": "code",
   "execution_count": 10,
   "metadata": {},
   "outputs": [
    {
     "data": {
      "text/plain": [
       "0.7938845568046652"
      ]
     },
     "execution_count": 10,
     "metadata": {},
     "output_type": "execute_result"
    }
   ],
   "source": [
    "reward, context, optimal_return = env.step(2)\n",
    "reward"
   ]
  },
  {
   "cell_type": "markdown",
   "metadata": {},
   "source": [
    "We get a reward of 0.79 and a new context\n",
    "\n",
    "Let's now play arm A."
   ]
  },
  {
   "cell_type": "code",
   "execution_count": 11,
   "metadata": {},
   "outputs": [
    {
     "data": {
      "text/plain": [
       "0.7886771893126919"
      ]
     },
     "execution_count": 11,
     "metadata": {},
     "output_type": "execute_result"
    }
   ],
   "source": [
    "reward, context, optimal_return = env.step(0)\n",
    "reward"
   ]
  },
  {
   "cell_type": "markdown",
   "metadata": {},
   "source": [
    "We get a reward of 0.78."
   ]
  },
  {
   "cell_type": "markdown",
   "metadata": {},
   "source": [
    "Now let's build an Agent that will play with our environment."
   ]
  },
  {
   "cell_type": "markdown",
   "metadata": {},
   "source": [
    "## Agent\n",
    "Here we create a very basic agent that will pull arm, i.e.play action, at random."
   ]
  },
  {
   "cell_type": "code",
   "execution_count": 12,
   "metadata": {},
   "outputs": [],
   "source": [
    "class Random:\n",
    "    \"\"\" Random agent. \"\"\"\n",
    "    def __init__(self, nb_arms, seed=None):\n",
    "        self._nb_arms = nb_arms\n",
    "        self._rng = np.random.RandomState(seed)\n",
    "        \n",
    "    def act(self, context):\n",
    "        action = self._rng.randint(self._nb_arms)\n",
    "        return action\n",
    "        \n",
    "    def update(self, context, action, reward):\n",
    "        pass\n"
   ]
  },
  {
   "cell_type": "markdown",
   "metadata": {},
   "source": [
    "#### Example\n",
    "Let's build an Agent and ask him to choose an action"
   ]
  },
  {
   "cell_type": "code",
   "execution_count": 13,
   "metadata": {},
   "outputs": [
    {
     "data": {
      "text/plain": [
       "0"
      ]
     },
     "execution_count": 13,
     "metadata": {},
     "output_type": "execute_result"
    }
   ],
   "source": [
    "agent = Random(nb_arms=3, seed=2020)\n",
    "agent.act(context)"
   ]
  },
  {
   "cell_type": "markdown",
   "metadata": {},
   "source": [
    "Here the agent choose to play arm A."
   ]
  },
  {
   "cell_type": "markdown",
   "metadata": {},
   "source": [
    "## Run experiment\n",
    "In order to make Agent and Environment interract, we can create an experiment, parametrized by the number of step we will be running."
   ]
  },
  {
   "cell_type": "code",
   "execution_count": 14,
   "metadata": {},
   "outputs": [],
   "source": [
    "def run_exp(agent, env, nb_steps):\n",
    "    rewards = np.zeros(nb_steps)\n",
    "    regrets = np.zeros(nb_steps)\n",
    "    actions = np.zeros(nb_steps)\n",
    "    context = env.reset()\n",
    "    for i in range(nb_steps):\n",
    "        # Select action from agent policy.\n",
    "        action = agent.act(context)\n",
    "        \n",
    "        # Play action in the environment and get reward.\n",
    "        reward, next_context, optimal_return = env.step(action)\n",
    "        \n",
    "        # Update agent.\n",
    "        agent.update(context, action, reward)\n",
    "        context = next_context\n",
    "        \n",
    "        # Save history.\n",
    "        #context[i] = context\n",
    "        rewards[i] = reward\n",
    "        actions[i] = action\n",
    "        regrets[i] = optimal_return - reward\n",
    "\n",
    "    reward = rewards.sum()\n",
    "    regret = np.sum(regrets)\n",
    "    return {'reward': reward, \n",
    "            'regret': regret,\n",
    "            'rewards': rewards,\n",
    "            'regrets': regrets,\n",
    "            'actions': actions,\n",
    "            'cum_rewards': np.cumsum(rewards), \n",
    "            'cum_regrets': np.cumsum(regrets)\n",
    "            }\n"
   ]
  },
  {
   "cell_type": "markdown",
   "metadata": {},
   "source": [
    "#### Example\n",
    "Let's run our previous agent and environment 100 times."
   ]
  },
  {
   "cell_type": "code",
   "execution_count": 15,
   "metadata": {},
   "outputs": [
    {
     "data": {
      "text/plain": [
       "{'reward': 54.57278051522984,\n",
       " 'regret': 63.90923197536222,\n",
       " 'rewards': array([ 0.40067824,  0.76939643,  0.07026308, -1.26364381, -0.73339948,\n",
       "        -0.0426134 ,  0.75190796,  0.46774378,  0.86589061, -0.79371053,\n",
       "         0.70344241,  0.78308311,  0.96600235, -0.26292367,  0.02185874,\n",
       "         1.73933097,  0.4372614 , -0.66029639,  0.65672853,  1.64401417,\n",
       "         1.08746245,  1.90490985, -0.61672543,  0.75606621, -0.86501285,\n",
       "         0.82722214,  0.4675125 ,  0.12220823,  0.5615836 ,  0.76235997,\n",
       "         0.72841776,  0.76109263, -1.1925095 , -0.98568186,  0.92605065,\n",
       "         0.82706448,  1.03159395,  0.71579784, -0.9421724 ,  1.61510186,\n",
       "         1.18965353,  0.99915096,  0.74472473,  0.78253162,  0.97305916,\n",
       "         1.8431326 , -0.66825785,  0.82759596,  0.8942935 ,  1.00040448,\n",
       "         1.07818184,  0.89712159,  1.09328208,  0.98432076,  0.74726131,\n",
       "        -1.46405656,  0.93513993, -0.19003135,  0.76165483,  0.85454867,\n",
       "         2.05306906, -1.34258027,  0.79043076,  0.20424714,  0.77237663,\n",
       "         0.79770134,  0.85198169, -0.43763127,  0.59715512,  0.56968505,\n",
       "         0.13792076,  0.0876775 , -0.35028649,  2.49094087,  1.83044837,\n",
       "         2.32833449,  0.99570043, -0.32159521, -0.84569394,  1.16444267,\n",
       "         0.83175702, -0.38513652,  1.62325221,  0.84356963, -0.43353121,\n",
       "         0.84707257,  0.70305012,  1.00368183,  1.65744778, -0.60609766,\n",
       "         1.44868088,  0.80318901,  1.66399953,  0.54836541,  0.96136937,\n",
       "         0.34971031,  0.68605681, -0.73473735,  0.80547846,  0.28420926]),\n",
       " 'regrets': array([ 3.99321765e-01,  1.12828427e-01,  7.29736920e-01,  2.82514589e+00,\n",
       "         1.53339948e+00,  8.42613404e-01,  6.79053214e-01,  1.26352588e+00,\n",
       "         5.67376397e-01,  1.59371053e+00,  8.43785070e-01,  6.83600661e-01,\n",
       "        -1.66002349e-01,  1.06292367e+00,  7.78141257e-01, -6.48498956e-04,\n",
       "         7.10454832e-01,  2.09288675e+00,  1.43271471e-01, -2.11272115e-01,\n",
       "         1.11281826e+00,  1.52880099e-01,  1.41672543e+00,  4.39337908e-02,\n",
       "         1.66990482e+00,  5.13306560e-01,  6.17538784e-01,  6.77791769e-01,\n",
       "         2.38416397e-01,  3.76400288e-02,  7.15822376e-02,  4.30338945e-01,\n",
       "         1.99250950e+00,  1.78568186e+00,  1.97697143e+00, -2.70644758e-02,\n",
       "         4.27898131e-02,  2.28428486e+00,  1.74217240e+00,  7.24450411e-02,\n",
       "         5.45904756e-01,  4.23711385e-01,  5.52752712e-02,  1.74683830e-02,\n",
       "         9.77957710e-01,  5.42335506e-02,  1.89022388e+00,  1.49829960e-01,\n",
       "        -4.41330511e-02, -9.95821431e-02,  1.37539339e-01,  3.72589575e-02,\n",
       "        -1.25130381e-02,  4.33819976e-01,  2.78671856e-01,  2.26405656e+00,\n",
       "        -1.35139928e-01,  9.90031351e-01,  4.52037305e-01, -5.45486748e-02,\n",
       "         4.13644148e-02,  2.14258027e+00,  9.52965849e-01,  5.95752856e-01,\n",
       "         2.76233717e-02,  2.29866099e-03, -5.19816850e-02,  1.23763127e+00,\n",
       "         1.91045367e+00,  2.30314946e-01,  6.62079243e-01,  7.12322503e-01,\n",
       "         1.61065399e+00, -2.79054381e-02, -1.18952714e-01, -1.10052543e-01,\n",
       "         7.51225066e-01,  1.12159521e+00,  1.64569394e+00,  1.50028036e-01,\n",
       "         8.55626469e-02,  1.18513652e+00, -8.72978178e-02,  5.71639635e-01,\n",
       "         1.23353121e+00,  5.20796798e-01,  9.69498821e-02,  2.85206732e-01,\n",
       "         3.60824436e-02,  1.40609766e+00,  1.53058411e-01, -3.18901366e-03,\n",
       "        -4.63373020e-02,  8.39766519e-01, -1.61369366e-01,  4.50289687e-01,\n",
       "         1.13943186e-01,  1.53473735e+00, -5.47846359e-03,  5.15790741e-01]),\n",
       " 'actions': array([0., 2., 1., 0., 1., 0., 0., 0., 2., 1., 2., 2., 2., 1., 0., 0., 0.,\n",
       "        0., 2., 0., 1., 1., 1., 2., 1., 2., 1., 1., 2., 2., 2., 2., 1., 0.,\n",
       "        2., 2., 0., 2., 0., 1., 0., 1., 2., 2., 0., 1., 1., 2., 2., 1., 0.,\n",
       "        2., 0., 2., 2., 0., 2., 1., 2., 2., 0., 0., 2., 0., 2., 2., 2., 0.,\n",
       "        2., 2., 1., 0., 1., 1., 1., 1., 1., 1., 0., 1., 2., 1., 0., 2., 1.,\n",
       "        2., 1., 0., 0., 0., 0., 2., 0., 1., 2., 0., 2., 1., 2., 1.]),\n",
       " 'cum_rewards': array([ 4.00678235e-01,  1.17007467e+00,  1.24033775e+00, -2.33060612e-02,\n",
       "        -7.56705541e-01, -7.99318945e-01, -4.74109876e-02,  4.20332792e-01,\n",
       "         1.28622340e+00,  4.92512872e-01,  1.19595529e+00,  1.97903840e+00,\n",
       "         2.94504075e+00,  2.68211708e+00,  2.70397583e+00,  4.44330679e+00,\n",
       "         4.88056819e+00,  4.22027179e+00,  4.87700032e+00,  6.52101450e+00,\n",
       "         7.60847694e+00,  9.51338679e+00,  8.89666137e+00,  9.65272758e+00,\n",
       "         8.78771473e+00,  9.61493686e+00,  1.00824494e+01,  1.02046576e+01,\n",
       "         1.07662412e+01,  1.15286012e+01,  1.22570189e+01,  1.30181116e+01,\n",
       "         1.18256021e+01,  1.08399202e+01,  1.17659709e+01,  1.25930353e+01,\n",
       "         1.36246293e+01,  1.43404271e+01,  1.33982547e+01,  1.50133566e+01,\n",
       "         1.62030101e+01,  1.72021611e+01,  1.79468858e+01,  1.87294174e+01,\n",
       "         1.97024766e+01,  2.15456092e+01,  2.08773513e+01,  2.17049473e+01,\n",
       "         2.25992408e+01,  2.35996453e+01,  2.46778271e+01,  2.55749487e+01,\n",
       "         2.66682308e+01,  2.76525515e+01,  2.83998128e+01,  2.69357563e+01,\n",
       "         2.78708962e+01,  2.76808649e+01,  2.84425197e+01,  2.92970684e+01,\n",
       "         3.13501374e+01,  3.00075572e+01,  3.07979879e+01,  3.10022351e+01,\n",
       "         3.17746117e+01,  3.25723130e+01,  3.34242947e+01,  3.29866635e+01,\n",
       "         3.35838186e+01,  3.41535036e+01,  3.42914244e+01,  3.43791019e+01,\n",
       "         3.40288154e+01,  3.65197563e+01,  3.83502046e+01,  4.06785391e+01,\n",
       "         4.16742395e+01,  4.13526443e+01,  4.05069504e+01,  4.16713931e+01,\n",
       "         4.25031501e+01,  4.21180136e+01,  4.37412658e+01,  4.45848354e+01,\n",
       "         4.41513042e+01,  4.49983768e+01,  4.57014269e+01,  4.67051087e+01,\n",
       "         4.83625565e+01,  4.77564588e+01,  4.92051397e+01,  5.00083287e+01,\n",
       "         5.16723282e+01,  5.22206937e+01,  5.31820630e+01,  5.35317733e+01,\n",
       "         5.42178301e+01,  5.34830928e+01,  5.42885713e+01,  5.45727805e+01]),\n",
       " 'cum_regrets': array([ 0.39932176,  0.51215019,  1.24188711,  4.067033  ,  5.60043248,\n",
       "         6.44304589,  7.1220991 ,  8.38562498,  8.95300137, 10.5467119 ,\n",
       "        11.39049697, 12.07409763, 11.90809528, 12.97101895, 13.74916021,\n",
       "        13.74851171, 14.45896654, 16.55185329, 16.69512476, 16.48385264,\n",
       "        17.5966709 , 17.749551  , 19.16627642, 19.21021021, 20.88011503,\n",
       "        21.39342159, 22.01096038, 22.68875215, 22.92716854, 22.96480857,\n",
       "        23.03639081, 23.46672976, 25.45923925, 27.24492111, 29.22189255,\n",
       "        29.19482807, 29.23761788, 31.52190274, 33.26407514, 33.33652019,\n",
       "        33.88242494, 34.30613633, 34.3614116 , 34.37887998, 35.35683769,\n",
       "        35.41107124, 37.30129512, 37.45112508, 37.40699203, 37.30740989,\n",
       "        37.44494923, 37.48220819, 37.46969515, 37.90351512, 38.18218698,\n",
       "        40.44624354, 40.31110361, 41.30113496, 41.75317227, 41.69862359,\n",
       "        41.73998801, 43.88256828, 44.83553413, 45.43128698, 45.45891035,\n",
       "        45.46120901, 45.40922733, 46.64685859, 48.55731227, 48.78762721,\n",
       "        49.44970646, 50.16202896, 51.77268295, 51.74477751, 51.6258248 ,\n",
       "        51.51577225, 52.26699732, 53.38859253, 55.03428647, 55.18431451,\n",
       "        55.26987715, 56.45501367, 56.36771586, 56.93935549, 58.1728867 ,\n",
       "        58.6936835 , 58.79063338, 59.07584012, 59.11192256, 60.51802022,\n",
       "        60.67107863, 60.66788962, 60.62155232, 61.46131884, 61.29994947,\n",
       "        61.75023916, 61.86418234, 63.3989197 , 63.39344123, 63.90923198])}"
      ]
     },
     "execution_count": 15,
     "metadata": {},
     "output_type": "execute_result"
    }
   ],
   "source": [
    "run_exp(agent, env, nb_steps=100)"
   ]
  },
  {
   "cell_type": "markdown",
   "metadata": {},
   "source": [
    "You can see that on this experiment the total reward is 53 and the regret is 27. You can also have a look at individual rewards, actions or regrets.\n",
    "\n",
    "Due to stochasticity of both the environment and the agent, it's better to run multiple experiments."
   ]
  },
  {
   "cell_type": "markdown",
   "metadata": {},
   "source": [
    "## Multiple experiments"
   ]
  },
  {
   "cell_type": "markdown",
   "metadata": {},
   "source": [
    "In order to get empirical confidence bound on those statistics we can run the experiment multiple time.\n",
    "\n",
    "Hint: don't forget to change the seed. "
   ]
  },
  {
   "cell_type": "code",
   "execution_count": 16,
   "metadata": {},
   "outputs": [],
   "source": [
    "nb_exp = 1000\n",
    "nb_steps = 100\n",
    "regret = np.zeros(nb_exp)\n",
    "regrets = np.zeros((nb_exp, nb_steps))\n",
    "for i in range(nb_exp):\n",
    "    env = CMAB(nb_arms=3, context_size=1, coef=np.array([[.5, 1], [.2, -1], [.8, 0]]), \n",
    "               bernoulli=False, seed=i)\n",
    "    agent = Random(env._nb_arms, seed=i)\n",
    "    exp = run_exp(agent, env, nb_steps)\n",
    "    regret[i] = exp['regret'] \n",
    "    regrets[i] = exp['cum_regrets']"
   ]
  },
  {
   "cell_type": "code",
   "execution_count": 17,
   "metadata": {},
   "outputs": [
    {
     "data": {
      "image/png": "[encoded data removed]",
      "text/plain": [
       "<Figure size 432x288 with 1 Axes>"
      ]
     },
     "metadata": {
      "needs_background": "light"
     },
     "output_type": "display_data"
    }
   ],
   "source": [
    "plt.plot(regrets.mean(axis=0), color='blue')\n",
    "plt.plot(np.quantile(regrets, 0.05,axis=0), color='grey', alpha=0.5)\n",
    "plt.plot(np.quantile(regrets, 0.95,axis=0), color='grey', alpha=0.5)\n",
    "plt.title('Mean regret: {:.2f}'.format(regret.mean()))\n",
    "plt.xlabel('steps')\n",
    "plt.ylabel('regret')\n",
    "plt.show()"
   ]
  },
  {
   "cell_type": "markdown",
   "metadata": {},
   "source": [
    "Here you can see the average regret over steps and the empirical 5% and 95% confidence intervall.\n",
    "\n",
    "Note that the stochasticity is may comes from the agent and/or the environment."
   ]
  },
  {
   "cell_type": "code",
   "execution_count": 18,
   "metadata": {},
   "outputs": [
    {
     "data": {
      "image/png": "[encoded data removed]",
      "text/plain": [
       "<Figure size 432x288 with 1 Axes>"
      ]
     },
     "metadata": {
      "needs_background": "light"
     },
     "output_type": "display_data"
    }
   ],
   "source": [
    "plt.hist(regret)\n",
    "plt.show()"
   ]
  },
  {
   "cell_type": "markdown",
   "metadata": {},
   "source": [
    "Here is the distribution of the total regret.\n",
    "\n",
    "In this simple case you could compute it exactly by hand."
   ]
  },
  {
   "cell_type": "markdown",
   "metadata": {},
   "source": [
    "# Exercices:"
   ]
  },
  {
   "cell_type": "markdown",
   "metadata": {},
   "source": [
    "1. Implement an epsilon-greedy agent.\n",
    "2. Implement an UCB agent.\n",
    "3. Implement a Thompson sampling agent."
   ]
  },
  {
   "cell_type": "markdown",
   "metadata": {},
   "source": [
    "## 1. Epsilon-greedy "
   ]
  },
  {
   "cell_type": "code",
   "execution_count": 19,
   "metadata": {},
   "outputs": [],
   "source": [
    "def random_argmax(rng, list_):\n",
    "    \"\"\" similar to np.argmax but return a random element among max\n",
    "        when multiple max exists.\"\"\"\n",
    "    return rng.choice(np.argwhere(list_ == list_.max()).flatten())"
   ]
  },
  {
   "cell_type": "code",
   "execution_count": 20,
   "metadata": {},
   "outputs": [],
   "source": [
    "class EpsilonGreedy:\n",
    "    \"\"\" Epsilon greedy agent. \"\"\"\n",
    "    def __init__(self, nb_arms, context_size, lr=.1, epsilon=0, seed=None):\n",
    "        self._nb_arms = nb_arms\n",
    "        self._p = context_size\n",
    "        self._lr = lr\n",
    "        self._epsilon = epsilon\n",
    "        self._rng = np.random.RandomState(seed)\n",
    "        self._beta = np.zeros((nb_arms, self._p)) \n",
    "        self._n = np.zeros(nb_arms)\n",
    "        self._pred_reward = np.zeros(nb_arms)\n",
    "        \n",
    "    def act(self, context):\n",
    "        if self._rng.random() < self._epsilon:\n",
    "            action = self._rng.randint(self._nb_arms)\n",
    "        else:\n",
    "            pred_reward = np.einsum('ij,ij->i', context, self._beta)\n",
    "            action = random_argmax(self._rng, pred_reward)\n",
    "        return action\n",
    "        \n",
    "    def update(self, context, action, reward):\n",
    "        \"\"\" Simple gradient descent. \"\"\"\n",
    "        self._n[action] += 1\n",
    "        grad = - context[action] * (reward - context[action].dot(self._beta[action]))\n",
    "        self._beta[action] = self._beta[action] - self._lr/self._n[action] * grad\n",
    "        "
   ]
  },
  {
   "cell_type": "code",
   "execution_count": 21,
   "metadata": {},
   "outputs": [],
   "source": [
    "nb_exp = 1000\n",
    "nb_steps = 100\n",
    "regret = np.zeros(nb_exp)\n",
    "regrets = np.zeros((nb_exp, nb_steps))\n",
    "for i in range(nb_exp):\n",
    "    env = CMAB(nb_arms=3, context_size=1, coef=np.array([[.5, 1], [.2, -1], [.8, 0]]), \n",
    "               bernoulli=False, seed=i)\n",
    "    agent = EpsilonGreedy(env._nb_arms, context_size=2, lr=1, epsilon=0.1, seed=i)\n",
    "    exp = run_exp(agent, env, nb_steps)\n",
    "    regret[i] = exp['regret'] \n",
    "    regrets[i] = exp['cum_regrets']"
   ]
  },
  {
   "cell_type": "code",
   "execution_count": 22,
   "metadata": {},
   "outputs": [
    {
     "name": "stdout",
     "output_type": "stream",
     "text": [
      "True beta: \n",
      " [[ 0.5  1. ]\n",
      " [ 0.2 -1. ]\n",
      " [ 0.8  0. ]]\n",
      "Estimated beta on the last experiment: \n",
      " [[ 0.44611153  1.05396833]\n",
      " [ 0.40301036 -0.79970506]\n",
      " [ 0.71139936 -0.11673564]]\n"
     ]
    }
   ],
   "source": [
    "print('True beta: \\n', env._beta)\n",
    "print('Estimated beta on the last experiment: \\n', agent._beta)"
   ]
  },
  {
   "cell_type": "code",
   "execution_count": 23,
   "metadata": {},
   "outputs": [
    {
     "data": {
      "image/png": "[encoded data removed]",
      "text/plain": [
       "<Figure size 432x288 with 1 Axes>"
      ]
     },
     "metadata": {
      "needs_background": "light"
     },
     "output_type": "display_data"
    }
   ],
   "source": [
    "plt.plot(regrets.mean(axis=0), color='blue')\n",
    "plt.plot(np.quantile(regrets, 0.05,axis=0), color='grey', alpha=0.5)\n",
    "plt.plot(np.quantile(regrets, 0.95,axis=0), color='grey', alpha=0.5)\n",
    "plt.title('Mean regret: {:.2f}'.format(regret.mean()))\n",
    "plt.xlabel('steps')\n",
    "plt.ylabel('regret')\n",
    "plt.show()"
   ]
  },
  {
   "cell_type": "markdown",
   "metadata": {},
   "source": [
    "## 3. Thompson sampling"
   ]
  },
  {
   "cell_type": "markdown",
   "metadata": {},
   "source": [
    "Reference: \n",
    "- https://arxiv.org/abs/1802.09127\n",
    "- https://en.wikipedia.org/wiki/Bayesian_linear_regression\n",
    "\n",
    "Wishard distribution is a generalization to multiple dimensions of the gamma distribution."
   ]
  },
  {
   "cell_type": "code",
   "execution_count": 24,
   "metadata": {},
   "outputs": [],
   "source": [
    "class NormalInverseWishart(object):\n",
    "    def __init__(self, p, sigma = .01, a=2, b=2):\n",
    "        self._p = p         # numbe of dimension\n",
    "        self._mean_0 = np.zeros(p) # vector of mean\n",
    "        self._precision_0 = sigma * np.eye(self._p) \n",
    "        self._a_0 = a\n",
    "        self._b_0 = b\n",
    "        self._n = 0\n",
    "        \n",
    "        self._x = np.empty((0, self._p), float)\n",
    "        self._y = np.empty((0, 1), float)\n",
    "\n",
    "    def update(self, context, reward):\n",
    "        self._n += 1\n",
    "        \n",
    "        # storing data\n",
    "        self._x = np.append(self._x, context.reshape(1, self._p), axis=0)\n",
    "        self._y = np.append(self._y, reward.reshape(1,1), axis=0)\n",
    "\n",
    "        s = np.dot(self._x.T, self._x)\n",
    "        new_precision = self._precision_0 + s  \n",
    "        cov = np.linalg.inv(new_precision)\n",
    "        \n",
    "        new_mean = np.dot(cov, np.dot(self._precision_0, self._mean_0) + (np.dot(self._x.T, self._y)).flatten())\n",
    "        self._a = self._a_0 + self._n/2.\n",
    "        self._b = self._b_0 + 0.5 * (  np.dot(np.transpose(self._y), self._y) \n",
    "                                     + np.dot(self._mean_0.T, np.dot(self._precision_0, self._mean_0)) \n",
    "                                     - np.dot(new_mean.T, np.dot(new_precision, new_mean)))\n",
    "               \n",
    "        self._mean = new_mean\n",
    "        self._precision = new_precision\n",
    "        \n",
    "        # exercice: implement an online version\n",
    "\n",
    "    def sample(self, context, np_random):\n",
    "        if self._n <= 2:\n",
    "            return np.Inf\n",
    "        else:           \n",
    "            sigma = self._b * invgamma.rvs(self._a)\n",
    "            beta = np.random.multivariate_normal(self._mean, sigma * self._precision**-1)\n",
    "            return beta.dot(context)\n",
    "        \n",
    "class Thompson_sampling:\n",
    "    \"\"\" Thompson sampling agent. \"\"\"\n",
    "    def __init__(self, nb_arms, p, dist=NormalInverseWishart, seed=None):\n",
    "        self._nb_arms = nb_arms\n",
    "        self._rng = np.random.RandomState(seed)\n",
    "        self._posterior = [dist(p) for i in range(self._nb_arms)]\n",
    "        \n",
    "    def act(self, context):\n",
    "        sample = np.array([self._posterior[i].sample(context[i], self._rng)\n",
    "                           for i in range(self._nb_arms)])\n",
    "        action = np.argmax(sample)\n",
    "        return action\n",
    "        \n",
    "    def update(self, context, action, reward):\n",
    "        self._posterior[action].update(context[action], reward)"
   ]
  },
  {
   "cell_type": "code",
   "execution_count": 25,
   "metadata": {},
   "outputs": [
    {
     "name": "stderr",
     "output_type": "stream",
     "text": [
      "/Users/thibaultallart/opt/anaconda3/lib/python3.7/site-packages/ipykernel_launcher.py:40: RuntimeWarning: covariance is not positive-semidefinite.\n"
     ]
    },
    {
     "data": {
      "image/png": "[encoded data removed]",
      "text/plain": [
       "<Figure size 432x288 with 1 Axes>"
      ]
     },
     "metadata": {
      "needs_background": "light"
     },
     "output_type": "display_data"
    }
   ],
   "source": [
    "nb_exp = 100\n",
    "nb_steps = 100\n",
    "regret = np.zeros(nb_exp)\n",
    "regrets = np.zeros((nb_exp, nb_steps))\n",
    "for i in range(nb_exp):\n",
    "    env = CMAB(nb_arms=3, context_size=1, coef=np.array([[.5, 1], [.2, -1], [.8, 0]]), \n",
    "               bernoulli=False, seed=i)\n",
    "    agent = Thompson_sampling(env._nb_arms, p=2, dist=NormalInverseWishart, seed=i)\n",
    "    exp = run_exp(agent, env, nb_steps)\n",
    "    regret[i] = exp['regret'] \n",
    "    regrets[i] = exp['cum_regrets']\n",
    "plt.plot(regrets.mean(axis=0), color='blue')\n",
    "plt.plot(np.quantile(regrets, 0.05,axis=0), color='grey', alpha=0.5)\n",
    "plt.plot(np.quantile(regrets, 0.95,axis=0), color='grey', alpha=0.5)\n",
    "plt.title('Mean regret: {:.2f}'.format(regret.mean()))\n",
    "plt.xlabel('steps')\n",
    "plt.ylabel('regret')\n",
    "plt.show()"
   ]
  },
  {
   "cell_type": "code",
   "execution_count": null,
   "metadata": {},
   "outputs": [],
   "source": []
  }
 ],
 "metadata": {
  "kernelspec": {
   "display_name": "Python 3",
   "language": "python",
   "name": "python3"
  },
  "language_info": {
   "codemirror_mode": {
    "name": "ipython",
    "version": 3
   },
   "file_extension": ".py",
   "mimetype": "text/x-python",
   "name": "python",
   "nbconvert_exporter": "python",
   "pygments_lexer": "ipython3",
   "version": "3.7.4"
  }
 },
 "nbformat": 4,
 "nbformat_minor": 1
}
