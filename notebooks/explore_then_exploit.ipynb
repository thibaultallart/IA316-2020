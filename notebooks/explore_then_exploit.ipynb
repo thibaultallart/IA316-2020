{
 "cells": [
  {
   "cell_type": "markdown",
   "metadata": {
    "collapsed": true
   },
   "source": [
    "# Introduction to Bandits algorithm"
   ]
  },
  {
   "cell_type": "markdown",
   "metadata": {},
   "source": [
    "A minimalist notebook to experiement with bandit environments and agents."
   ]
  },
  {
   "cell_type": "code",
   "execution_count": 1,
   "metadata": {},
   "outputs": [],
   "source": [
    "%matplotlib inline\n",
    "import numpy as np\n",
    "import matplotlib.pyplot as plt\n",
    "from copy import copy\n",
    "from scipy.stats import invgamma, gamma\n",
    "from scipy.stats import t as student"
   ]
  },
  {
   "cell_type": "markdown",
   "metadata": {},
   "source": [
    "# I. Introducing to the Environment\n",
    "The Multi-Armed Bandit setting is as follow: \n",
    "\n",
    "At each step you have to chose one arm to pull and recieve a reward accordingly.\n",
    "\n",
    "Here we consider Bernoulli rewards."
   ]
  },
  {
   "cell_type": "code",
   "execution_count": 2,
   "metadata": {},
   "outputs": [],
   "source": [
    "class MAB:\n",
    "    \"\"\" \n",
    "    Multi-Armed Bandit environment with bernoulli rewards.\n",
    "    \"\"\"\n",
    "    def __init__(self, mean_reward, seed=None):\n",
    "        self._nb_arms = len(mean_reward)\n",
    "        self._mean_reward = mean_reward\n",
    "        self._rng = np.random.RandomState(seed)\n",
    "        self._optimal_return = np.max(self._mean_reward)\n",
    "    \n",
    "    def step(self, action):\n",
    "        \"\"\" Play an action \"\"\"\n",
    "        reward = self._rng.binomial(p=self._mean_reward[action], n=1, size=1)[0]\n",
    "        return reward"
   ]
  },
  {
   "cell_type": "markdown",
   "metadata": {},
   "source": [
    "#### Example\n",
    "Set a Bernoulli Multi-Armed Bandit with reward probability of \n",
    "- 50% for arm A\n",
    "- 20% for arm B\n",
    "- 80% for arm C"
   ]
  },
  {
   "cell_type": "code",
   "execution_count": 3,
   "metadata": {},
   "outputs": [],
   "source": [
    "env = MAB(mean_reward=[0.5, 0.2, 0.8], seed=2020)"
   ]
  },
  {
   "cell_type": "markdown",
   "metadata": {},
   "source": [
    "Let's play arm B once:"
   ]
  },
  {
   "cell_type": "code",
   "execution_count": 4,
   "metadata": {},
   "outputs": [
    {
     "data": {
      "text/plain": [
       "1"
      ]
     },
     "execution_count": 4,
     "metadata": {},
     "output_type": "execute_result"
    }
   ],
   "source": [
    "env.step(1)"
   ]
  },
  {
   "cell_type": "markdown",
   "metadata": {},
   "source": [
    "We get a reward of 1.\n",
    "\n",
    "Let's now play arm C."
   ]
  },
  {
   "cell_type": "code",
   "execution_count": 5,
   "metadata": {},
   "outputs": [
    {
     "data": {
      "text/plain": [
       "0"
      ]
     },
     "execution_count": 5,
     "metadata": {},
     "output_type": "execute_result"
    }
   ],
   "source": [
    "env.step(2)"
   ]
  },
  {
   "cell_type": "markdown",
   "metadata": {},
   "source": [
    "We get no reward."
   ]
  },
  {
   "cell_type": "markdown",
   "metadata": {},
   "source": [
    "Now let's build an Agent that will play with our environment."
   ]
  },
  {
   "cell_type": "markdown",
   "metadata": {},
   "source": [
    "# II. Introducting a random Agent\n",
    "Here we create a very basic agent that will pull arm, i.e.play action, at random."
   ]
  },
  {
   "cell_type": "code",
   "execution_count": 6,
   "metadata": {},
   "outputs": [],
   "source": [
    "class Random:\n",
    "    \"\"\" Random agent. \"\"\"\n",
    "    def __init__(self, nb_arms, seed=None):\n",
    "        self._nb_arms = nb_arms\n",
    "        self._rng = np.random.RandomState(seed)\n",
    "        \n",
    "    def act(self):\n",
    "        action = self._rng.randint(self._nb_arms)\n",
    "        return action\n",
    "        \n",
    "    def update(self, action, reward):\n",
    "        pass\n"
   ]
  },
  {
   "cell_type": "markdown",
   "metadata": {},
   "source": [
    "#### Example\n",
    "Let's build an Agent and ask him to choose an action"
   ]
  },
  {
   "cell_type": "code",
   "execution_count": 7,
   "metadata": {},
   "outputs": [
    {
     "data": {
      "text/plain": [
       "0"
      ]
     },
     "execution_count": 7,
     "metadata": {},
     "output_type": "execute_result"
    }
   ],
   "source": [
    "agent = Random(nb_arms=3, seed=2020)\n",
    "agent.act()"
   ]
  },
  {
   "cell_type": "markdown",
   "metadata": {},
   "source": [
    "Here the agent choose to play arm A."
   ]
  },
  {
   "cell_type": "markdown",
   "metadata": {},
   "source": [
    "# III. Running an experiment\n",
    "In order to make Agent and Environment interract, we can create an experiment, parametrized by the number of step we will be running."
   ]
  },
  {
   "cell_type": "code",
   "execution_count": 8,
   "metadata": {},
   "outputs": [],
   "source": [
    "def run_exp(agent, env, nb_steps):\n",
    "    rewards = np.zeros(nb_steps)\n",
    "    regrets = np.zeros(nb_steps)\n",
    "    actions = np.zeros(nb_steps)\n",
    "    \n",
    "    for i in range(nb_steps):\n",
    "        # Select action from agent policy.\n",
    "        action = agent.act()\n",
    "        \n",
    "        # Play action in the environment and get reward.\n",
    "        reward = env.step(action)\n",
    "        \n",
    "        # Update agent.\n",
    "        agent.update(action, reward)\n",
    "        \n",
    "        # Save history.\n",
    "        rewards[i] = reward\n",
    "        actions[i] = action\n",
    "\n",
    "    reward = rewards.sum()\n",
    "    regrets = env._optimal_return - rewards\n",
    "    regret = np.sum(regrets)\n",
    "    return {'reward': reward, \n",
    "            'regret': regret,\n",
    "            'rewards': rewards,\n",
    "            'regrets': regrets,\n",
    "            'actions': actions,\n",
    "            'cum_rewards': np.cumsum(rewards), \n",
    "            'cum_regrets': np.cumsum(regrets)\n",
    "            }\n"
   ]
  },
  {
   "cell_type": "markdown",
   "metadata": {},
   "source": [
    "#### Example\n",
    "Let's run our previous agent and environment 100 times."
   ]
  },
  {
   "cell_type": "code",
   "execution_count": 9,
   "metadata": {},
   "outputs": [
    {
     "data": {
      "text/plain": [
       "{'reward': 53.0,\n",
       " 'regret': 27.0,\n",
       " 'rewards': array([1., 1., 0., 0., 0., 0., 1., 0., 1., 0., 1., 1., 1., 0., 0., 1., 0.,\n",
       "        0., 0., 0., 0., 1., 0., 1., 0., 1., 0., 0., 1., 0., 1., 1., 1., 1.,\n",
       "        1., 1., 0., 0., 0., 1., 1., 1., 1., 1., 1., 0., 0., 1., 1., 0., 1.,\n",
       "        1., 0., 1., 1., 1., 0., 0., 1., 1., 1., 1., 1., 0., 0., 0., 1., 1.,\n",
       "        1., 1., 0., 0., 0., 0., 1., 1., 0., 0., 1., 0., 0., 0., 1., 1., 1.,\n",
       "        0., 0., 1., 1., 0., 0., 1., 1., 0., 0., 0., 1., 0., 1., 1.]),\n",
       " 'regrets': array([-0.2, -0.2,  0.8,  0.8,  0.8,  0.8, -0.2,  0.8, -0.2,  0.8, -0.2,\n",
       "        -0.2, -0.2,  0.8,  0.8, -0.2,  0.8,  0.8,  0.8,  0.8,  0.8, -0.2,\n",
       "         0.8, -0.2,  0.8, -0.2,  0.8,  0.8, -0.2,  0.8, -0.2, -0.2, -0.2,\n",
       "        -0.2, -0.2, -0.2,  0.8,  0.8,  0.8, -0.2, -0.2, -0.2, -0.2, -0.2,\n",
       "        -0.2,  0.8,  0.8, -0.2, -0.2,  0.8, -0.2, -0.2,  0.8, -0.2, -0.2,\n",
       "        -0.2,  0.8,  0.8, -0.2, -0.2, -0.2, -0.2, -0.2,  0.8,  0.8,  0.8,\n",
       "        -0.2, -0.2, -0.2, -0.2,  0.8,  0.8,  0.8,  0.8, -0.2, -0.2,  0.8,\n",
       "         0.8, -0.2,  0.8,  0.8,  0.8, -0.2, -0.2, -0.2,  0.8,  0.8, -0.2,\n",
       "        -0.2,  0.8,  0.8, -0.2, -0.2,  0.8,  0.8,  0.8, -0.2,  0.8, -0.2,\n",
       "        -0.2]),\n",
       " 'actions': array([0., 2., 1., 0., 1., 0., 0., 0., 2., 1., 2., 2., 2., 1., 0., 0., 0.,\n",
       "        0., 2., 0., 1., 1., 1., 2., 1., 2., 1., 1., 2., 2., 2., 2., 1., 0.,\n",
       "        2., 2., 0., 2., 0., 1., 0., 1., 2., 2., 0., 1., 1., 2., 2., 1., 0.,\n",
       "        2., 0., 2., 2., 0., 2., 1., 2., 2., 0., 0., 2., 0., 2., 2., 2., 0.,\n",
       "        2., 2., 1., 0., 1., 1., 1., 1., 1., 1., 0., 1., 2., 1., 0., 2., 1.,\n",
       "        2., 1., 0., 0., 0., 0., 2., 0., 1., 2., 0., 2., 1., 2., 1.]),\n",
       " 'cum_rewards': array([ 1.,  2.,  2.,  2.,  2.,  2.,  3.,  3.,  4.,  4.,  5.,  6.,  7.,\n",
       "         7.,  7.,  8.,  8.,  8.,  8.,  8.,  8.,  9.,  9., 10., 10., 11.,\n",
       "        11., 11., 12., 12., 13., 14., 15., 16., 17., 18., 18., 18., 18.,\n",
       "        19., 20., 21., 22., 23., 24., 24., 24., 25., 26., 26., 27., 28.,\n",
       "        28., 29., 30., 31., 31., 31., 32., 33., 34., 35., 36., 36., 36.,\n",
       "        36., 37., 38., 39., 40., 40., 40., 40., 40., 41., 42., 42., 42.,\n",
       "        43., 43., 43., 43., 44., 45., 46., 46., 46., 47., 48., 48., 48.,\n",
       "        49., 50., 50., 50., 50., 51., 51., 52., 53.]),\n",
       " 'cum_regrets': array([-0.2, -0.4,  0.4,  1.2,  2. ,  2.8,  2.6,  3.4,  3.2,  4. ,  3.8,\n",
       "         3.6,  3.4,  4.2,  5. ,  4.8,  5.6,  6.4,  7.2,  8. ,  8.8,  8.6,\n",
       "         9.4,  9.2, 10. ,  9.8, 10.6, 11.4, 11.2, 12. , 11.8, 11.6, 11.4,\n",
       "        11.2, 11. , 10.8, 11.6, 12.4, 13.2, 13. , 12.8, 12.6, 12.4, 12.2,\n",
       "        12. , 12.8, 13.6, 13.4, 13.2, 14. , 13.8, 13.6, 14.4, 14.2, 14. ,\n",
       "        13.8, 14.6, 15.4, 15.2, 15. , 14.8, 14.6, 14.4, 15.2, 16. , 16.8,\n",
       "        16.6, 16.4, 16.2, 16. , 16.8, 17.6, 18.4, 19.2, 19. , 18.8, 19.6,\n",
       "        20.4, 20.2, 21. , 21.8, 22.6, 22.4, 22.2, 22. , 22.8, 23.6, 23.4,\n",
       "        23.2, 24. , 24.8, 24.6, 24.4, 25.2, 26. , 26.8, 26.6, 27.4, 27.2,\n",
       "        27. ])}"
      ]
     },
     "execution_count": 9,
     "metadata": {},
     "output_type": "execute_result"
    }
   ],
   "source": [
    "run_exp(agent, env, nb_steps=100)"
   ]
  },
  {
   "cell_type": "markdown",
   "metadata": {},
   "source": [
    "You can see that on this experiment the total reward is 53 and the regret is 27. You can also have a look at individual rewards, actions or regrets.\n",
    "\n",
    "Due to stochasticity of both the environment and the agent, it's better to run multiple experiments."
   ]
  },
  {
   "cell_type": "markdown",
   "metadata": {},
   "source": [
    "# IV. Monitoring performance on multiple experiments"
   ]
  },
  {
   "cell_type": "markdown",
   "metadata": {},
   "source": [
    "In order to get empirical confidence bound on those statistics we can run the experiment multiple time.\n",
    "\n",
    "Hint: don't forget to change the seed. "
   ]
  },
  {
   "cell_type": "code",
   "execution_count": 10,
   "metadata": {},
   "outputs": [],
   "source": [
    "nb_exp = 1000\n",
    "nb_steps = 100\n",
    "regret = np.zeros(nb_exp)\n",
    "regrets = np.zeros((nb_exp, nb_steps))\n",
    "for i in range(nb_exp):\n",
    "    env = MAB([0.5, 0.2, 0.8], seed=i)\n",
    "    agent = Random(env._nb_arms, seed=i)\n",
    "    exp = run_exp(agent, env, nb_steps)\n",
    "    regret[i] = exp['regret'] \n",
    "    regrets[i] = exp['cum_regrets']"
   ]
  },
  {
   "cell_type": "code",
   "execution_count": 11,
   "metadata": {},
   "outputs": [
    {
     "data": {
      "image/png": "[encoded data removed]",
      "text/plain": [
       "<Figure size 432x288 with 1 Axes>"
      ]
     },
     "metadata": {
      "needs_background": "light"
     },
     "output_type": "display_data"
    }
   ],
   "source": [
    "plt.plot(regrets.mean(axis=0), color='blue')\n",
    "plt.plot(np.quantile(regrets, 0.05,axis=0), color='grey', alpha=0.5)\n",
    "plt.plot(np.quantile(regrets, 0.95,axis=0), color='grey', alpha=0.5)\n",
    "plt.title('Mean regret: {:.2f}'.format(regret.mean()))\n",
    "plt.xlabel('steps')\n",
    "plt.ylabel('regret')\n",
    "plt.show()"
   ]
  },
  {
   "cell_type": "markdown",
   "metadata": {},
   "source": [
    "Here you can see the average regret over steps and the empirical 5% and 95% confidence intervall.\n",
    "\n",
    "Note that the stochasticity is may comes from the agent and/or the environment."
   ]
  },
  {
   "cell_type": "code",
   "execution_count": 12,
   "metadata": {},
   "outputs": [
    {
     "data": {
      "image/png": "[encoded data removed]",
      "text/plain": [
       "<Figure size 432x288 with 1 Axes>"
      ]
     },
     "metadata": {
      "needs_background": "light"
     },
     "output_type": "display_data"
    }
   ],
   "source": [
    "plt.hist(regret)\n",
    "plt.show()"
   ]
  },
  {
   "cell_type": "markdown",
   "metadata": {},
   "source": [
    "Here is the distribution of the total regret.\n",
    "\n",
    "In this simple case you could compute it exactly by hand."
   ]
  },
  {
   "cell_type": "markdown",
   "metadata": {},
   "source": [
    "# V. Testing different Agents"
   ]
  },
  {
   "cell_type": "code",
   "execution_count": 13,
   "metadata": {},
   "outputs": [],
   "source": [
    "def random_argmax(rng, list_):\n",
    "    \"\"\" similar to np.argmax but return a random element among max\n",
    "        when multiple max exists.\"\"\"\n",
    "    return rng.choice(np.argwhere(list_ == list_.max()).flatten())"
   ]
  },
  {
   "cell_type": "markdown",
   "metadata": {},
   "source": [
    "## A. Explore-then exploit\n",
    "We run a uniform ab-test for t steps then we play the best arm according to the observed mean."
   ]
  },
  {
   "cell_type": "code",
   "execution_count": 14,
   "metadata": {},
   "outputs": [],
   "source": [
    "class ExploreThenExploit:\n",
    "    \"\"\" An explore-then exploit agent. \"\"\"\n",
    "    def __init__(self, nb_arms, exploration_steps, seed=None):\n",
    "        self._nb_arms = nb_arms\n",
    "        self._exploration_steps = exploration_steps\n",
    "        self._rng = np.random.RandomState(seed)\n",
    "        self._mean = np.zeros(nb_arms)\n",
    "        self._n = np.zeros(nb_arms)\n",
    "        \n",
    "    def act(self):\n",
    "        # todo how to decide when to stop exploring ?\n",
    "        if np.sum(self._n) <= self._exploration_steps:\n",
    "            action = np.argmin(self._n)\n",
    "        else:\n",
    "            action = random_argmax(self._rng, self._mean)\n",
    "        return action\n",
    "        \n",
    "    def update(self, action, reward):\n",
    "        self._n[action] += 1\n",
    "        self._mean[action] += (reward - self._mean[action])/self._n[action]"
   ]
  },
  {
   "cell_type": "code",
   "execution_count": 15,
   "metadata": {},
   "outputs": [],
   "source": [
    "nb_exp = 1000\n",
    "nb_steps = 100\n",
    "regret = np.zeros(nb_exp)\n",
    "regrets = np.zeros((nb_exp, nb_steps))\n",
    "for i in range(nb_exp):\n",
    "    env = MAB([0.5, 0.2, 0.8], seed=i)\n",
    "    agent = ExploreThenExploit(env._nb_arms, exploration_steps=env._nb_arms*10, seed=i)\n",
    "    exp = run_exp(agent, env, nb_steps)\n",
    "    regret[i] = exp['regret'] \n",
    "    regrets[i] = exp['cum_regrets']"
   ]
  },
  {
   "cell_type": "code",
   "execution_count": 16,
   "metadata": {},
   "outputs": [
    {
     "data": {
      "image/png": "[encoded data removed]",
      "text/plain": [
       "<Figure size 432x288 with 1 Axes>"
      ]
     },
     "metadata": {
      "needs_background": "light"
     },
     "output_type": "display_data"
    }
   ],
   "source": [
    "plt.plot(regrets.mean(axis=0), color='blue')\n",
    "plt.plot(np.quantile(regrets, 0.05,axis=0), color='grey', alpha=0.5)\n",
    "plt.plot(np.quantile(regrets, 0.95,axis=0), color='grey', alpha=0.5)\n",
    "plt.title('Mean regret: {:.2f}'.format(regret.mean()))\n",
    "plt.xlabel('steps')\n",
    "plt.ylabel('regret')\n",
    "plt.show()"
   ]
  },
  {
   "cell_type": "markdown",
   "metadata": {},
   "source": [
    "## B. Thompson sampling"
   ]
  },
  {
   "cell_type": "code",
   "execution_count": 17,
   "metadata": {},
   "outputs": [],
   "source": [
    "class BetaBernoulli(object):\n",
    "    \"\"\" Beta Bernoulli Bayesian distribution. \"\"\"\n",
    "    def __init__(self, prior=np.ones(2)):\n",
    "        self.n = copy(prior)  # number of {0,1} rewards\n",
    "\n",
    "    def update(self, reward):\n",
    "        self.n[int(reward)] += 1\n",
    "\n",
    "    def sample(self, np_random):\n",
    "        return np_random.beta(self.n[1], self.n[0])\n",
    "\n",
    "class Thompson_sampling:\n",
    "    \"\"\" Thompson sampling agent. \"\"\"\n",
    "    def __init__(self, nb_arms, dist=BetaBernoulli, seed=None):\n",
    "        self._nb_arms = nb_arms\n",
    "        self._rng = np.random.RandomState(seed)\n",
    "        self._posterior = [dist() for i in range(self._nb_arms)]\n",
    "        \n",
    "    def act(self):\n",
    "        sample = np.array([self._posterior[i].sample(self._rng)\n",
    "                           for i in range(self._nb_arms)])\n",
    "        action = np.argmax(sample)\n",
    "        return action\n",
    "        \n",
    "    def update(self, action, reward):\n",
    "        self._posterior[action].update(reward)"
   ]
  },
  {
   "cell_type": "code",
   "execution_count": 18,
   "metadata": {},
   "outputs": [],
   "source": [
    "nb_exp = 1000\n",
    "nb_steps = 100\n",
    "regret = np.zeros(nb_exp)\n",
    "regrets = np.zeros((nb_exp, nb_steps))\n",
    "for i in range(nb_exp):\n",
    "    env = MAB([0.5, 0.2, 0.8], seed=i)\n",
    "    agent = Thompson_sampling(env._nb_arms, seed=i)\n",
    "    exp = run_exp(agent, env, nb_steps)\n",
    "    regret[i] = exp['regret'] \n",
    "    regrets[i] = exp['cum_regrets']"
   ]
  },
  {
   "cell_type": "code",
   "execution_count": 19,
   "metadata": {},
   "outputs": [
    {
     "data": {
      "image/png": "[encoded data removed]",
      "text/plain": [
       "<Figure size 432x288 with 1 Axes>"
      ]
     },
     "metadata": {
      "needs_background": "light"
     },
     "output_type": "display_data"
    }
   ],
   "source": [
    "plt.plot(regrets.mean(axis=0), color='blue')\n",
    "plt.plot(np.quantile(regrets, 0.05,axis=0), color='grey', alpha=0.5)\n",
    "plt.plot(np.quantile(regrets, 0.95,axis=0), color='grey', alpha=0.5)\n",
    "plt.title('Mean regret: {:.2f}'.format(regret.mean()))\n",
    "plt.xlabel('steps')\n",
    "plt.ylabel('regret')\n",
    "plt.show()"
   ]
  },
  {
   "cell_type": "markdown",
   "metadata": {},
   "source": [
    "# Part 2: Gaussian rewards Multi Armed Bandit"
   ]
  },
  {
   "cell_type": "code",
   "execution_count": 20,
   "metadata": {},
   "outputs": [],
   "source": [
    "class MABG:\n",
    "    \"\"\" \n",
    "    Multi-Armed Bandit environment with gaussian rewards.\n",
    "    \"\"\"\n",
    "    def __init__(self, mean_reward, std_reward, seed=None):\n",
    "        self._nb_arms = len(mean_reward)\n",
    "        self._mean_reward = mean_reward\n",
    "        self._std_reward = std_reward\n",
    "        self._rng = np.random.RandomState(seed)\n",
    "        self._optimal_return = np.max(self._mean_reward)\n",
    "    \n",
    "    def step(self, action):\n",
    "        \"\"\" Play an action \"\"\"\n",
    "        reward = self._rng.normal(loc=self._mean_reward[action],\n",
    "                                    scale=self._std_reward[action], \n",
    "                                    size=1)[0]\n",
    "        return reward"
   ]
  },
  {
   "cell_type": "markdown",
   "metadata": {},
   "source": [
    "## A. Explore-then exploit"
   ]
  },
  {
   "cell_type": "code",
   "execution_count": 21,
   "metadata": {},
   "outputs": [
    {
     "data": {
      "image/png": "[encoded data removed]",
      "text/plain": [
       "<Figure size 432x288 with 1 Axes>"
      ]
     },
     "metadata": {
      "needs_background": "light"
     },
     "output_type": "display_data"
    }
   ],
   "source": [
    "nb_exp = 1000\n",
    "nb_steps = 100\n",
    "regret = np.zeros(nb_exp)\n",
    "regrets = np.zeros((nb_exp, nb_steps))\n",
    "for i in range(nb_exp):\n",
    "    env = MABG(mean_reward = [0.5, 0.2, 0.8], \n",
    "               std_reward = [0.5, 0.5, 0.5],\n",
    "               seed=i)\n",
    "    agent = ExploreThenExploit(env._nb_arms, exploration_steps=env._nb_arms*10, seed=i)\n",
    "    exp = run_exp(agent, env, nb_steps)\n",
    "    regret[i] = exp['regret'] \n",
    "    regrets[i] = exp['cum_regrets']\n",
    "plt.plot(regrets.mean(axis=0), color='blue')\n",
    "plt.plot(np.quantile(regrets, 0.05,axis=0), color='grey', alpha=0.5)\n",
    "plt.plot(np.quantile(regrets, 0.95,axis=0), color='grey', alpha=0.5)\n",
    "plt.title('Mean regret: {:.2f}'.format(regret.mean()))\n",
    "plt.xlabel('steps')\n",
    "plt.ylabel('regret')\n",
    "plt.show()"
   ]
  },
  {
   "cell_type": "markdown",
   "metadata": {},
   "source": [
    "### Thompson sampling\n",
    "Reference: https://www.cs.ubc.ca/~murphyk/Papers/bayesGauss.pdf"
   ]
  },
  {
   "cell_type": "code",
   "execution_count": 22,
   "metadata": {},
   "outputs": [],
   "source": [
    "class NormalGamma(object):\n",
    "    \"\"\" NG(m, λ|µ = ·, κ = 0, α = −1/2, β = 0) \"\"\"\n",
    "    def __init__(self):\n",
    "        self.mean = 0\n",
    "        self.ss = 0\n",
    "        self.n = 0\n",
    "\n",
    "    def update(self, reward):\n",
    "        self.n += 1\n",
    "        # update mean and sum of square\n",
    "        old_mean = self.mean\n",
    "        self.mean +=  (reward - self.mean)/self.n\n",
    "        self.ss += (reward - old_mean) * (reward - self.mean) # Welford's algorithm\n",
    "\n",
    "    def sample(self, np_random):\n",
    "        if self.n <= 2:\n",
    "            return np.Inf\n",
    "        else:\n",
    "            return student.rvs(df=self.n-1, loc=self.mean, \n",
    "                               scale=self.ss/(self.n*self.n-1),\n",
    "                               random_state=np_random)"
   ]
  },
  {
   "cell_type": "code",
   "execution_count": 23,
   "metadata": {},
   "outputs": [
    {
     "data": {
      "image/png": "[encoded data removed]",
      "text/plain": [
       "<Figure size 432x288 with 1 Axes>"
      ]
     },
     "metadata": {
      "needs_background": "light"
     },
     "output_type": "display_data"
    }
   ],
   "source": [
    "nb_exp = 1000\n",
    "nb_steps = 100\n",
    "regret = np.zeros(nb_exp)\n",
    "regrets = np.zeros((nb_exp, nb_steps))\n",
    "for i in range(nb_exp):\n",
    "    env = MABG(mean_reward = [.5, .2, .8], \n",
    "               std_reward = [.5, .5, .5],\n",
    "               seed=i)\n",
    "    agent = Thompson_sampling(env._nb_arms, dist=NormalGamma, seed=i)\n",
    "    exp = run_exp(agent, env, nb_steps)\n",
    "    regret[i] = exp['regret'] \n",
    "    regrets[i] = exp['cum_regrets']\n",
    "plt.plot(regrets.mean(axis=0), color='blue')\n",
    "plt.plot(np.quantile(regrets, 0.05,axis=0), color='grey', alpha=0.5)\n",
    "plt.plot(np.quantile(regrets, 0.95,axis=0), color='grey', alpha=0.5)\n",
    "plt.title('Mean regret: {:.2f}'.format(regret.mean()))\n",
    "plt.xlabel('steps')\n",
    "plt.ylabel('regret')\n",
    "plt.show()"
   ]
  },
  {
   "cell_type": "code",
   "execution_count": null,
   "metadata": {},
   "outputs": [],
   "source": []
  }
 ],
 "metadata": {
  "kernelspec": {
   "display_name": "Python 3",
   "language": "python",
   "name": "python3"
  },
  "language_info": {
   "codemirror_mode": {
    "name": "ipython",
    "version": 3
   },
   "file_extension": ".py",
   "mimetype": "text/x-python",
   "name": "python",
   "nbconvert_exporter": "python",
   "pygments_lexer": "ipython3",
   "version": "3.6.10"
  }
 },
 "nbformat": 4,
 "nbformat_minor": 1
}
